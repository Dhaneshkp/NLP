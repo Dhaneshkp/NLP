{
  "cells": [
    {
      "cell_type": "markdown",
      "metadata": {
        "id": "view-in-github",
        "colab_type": "text"
      },
      "source": [
        "<a href=\"https://colab.research.google.com/github/Dhaneshkp/NLP/blob/main/FEakNEws_LSTM_withBERT.ipynb\" target=\"_parent\"><img src=\"https://colab.research.google.com/assets/colab-badge.svg\" alt=\"Open In Colab\"/></a>"
      ]
    },
    {
      "cell_type": "markdown",
      "metadata": {
        "id": "l9SgEvyvK34s"
      },
      "source": [
        "## Fake News Classifier Using Bidirectional LSTM\n",
        "\n",
        "Dataset: https://www.kaggle.com/c/fake-news/data#"
      ]
    },
    {
      "cell_type": "code",
      "execution_count": 1,
      "metadata": {
        "id": "Nr0uez9AK34u"
      },
      "outputs": [],
      "source": [
        "import pandas as pd\n",
        "#!pip install kaggle\n",
        "\n"
      ]
    },
    {
      "cell_type": "code",
      "execution_count": 60,
      "metadata": {
        "id": "5JBVh1IAK34w",
        "outputId": "24077ce7-fa49-4380-d6d5-16ebdfddc035",
        "colab": {
          "base_uri": "https://localhost:8080/"
        }
      },
      "outputs": [
        {
          "output_type": "stream",
          "name": "stdout",
          "text": [
            "Requirement already satisfied: gensim==4.3.1 in /usr/local/lib/python3.10/dist-packages (4.3.1)\n",
            "Requirement already satisfied: numpy>=1.18.5 in /usr/local/lib/python3.10/dist-packages (from gensim==4.3.1) (1.25.2)\n",
            "Requirement already satisfied: scipy>=1.7.0 in /usr/local/lib/python3.10/dist-packages (from gensim==4.3.1) (1.11.4)\n",
            "Requirement already satisfied: smart-open>=1.8.1 in /usr/local/lib/python3.10/dist-packages (from gensim==4.3.1) (7.0.4)\n",
            "Requirement already satisfied: wrapt in /usr/local/lib/python3.10/dist-packages (from smart-open>=1.8.1->gensim==4.3.1) (1.14.1)\n",
            "Requirement already satisfied: transformers in /usr/local/lib/python3.10/dist-packages (4.42.4)\n",
            "Requirement already satisfied: filelock in /usr/local/lib/python3.10/dist-packages (from transformers) (3.15.4)\n",
            "Requirement already satisfied: huggingface-hub<1.0,>=0.23.2 in /usr/local/lib/python3.10/dist-packages (from transformers) (0.23.5)\n",
            "Requirement already satisfied: numpy<2.0,>=1.17 in /usr/local/lib/python3.10/dist-packages (from transformers) (1.25.2)\n",
            "Requirement already satisfied: packaging>=20.0 in /usr/local/lib/python3.10/dist-packages (from transformers) (24.1)\n",
            "Requirement already satisfied: pyyaml>=5.1 in /usr/local/lib/python3.10/dist-packages (from transformers) (6.0.1)\n",
            "Requirement already satisfied: regex!=2019.12.17 in /usr/local/lib/python3.10/dist-packages (from transformers) (2024.5.15)\n",
            "Requirement already satisfied: requests in /usr/local/lib/python3.10/dist-packages (from transformers) (2.31.0)\n",
            "Requirement already satisfied: safetensors>=0.4.1 in /usr/local/lib/python3.10/dist-packages (from transformers) (0.4.3)\n",
            "Requirement already satisfied: tokenizers<0.20,>=0.19 in /usr/local/lib/python3.10/dist-packages (from transformers) (0.19.1)\n",
            "Requirement already satisfied: tqdm>=4.27 in /usr/local/lib/python3.10/dist-packages (from transformers) (4.66.4)\n",
            "Requirement already satisfied: fsspec>=2023.5.0 in /usr/local/lib/python3.10/dist-packages (from huggingface-hub<1.0,>=0.23.2->transformers) (2023.6.0)\n",
            "Requirement already satisfied: typing-extensions>=3.7.4.3 in /usr/local/lib/python3.10/dist-packages (from huggingface-hub<1.0,>=0.23.2->transformers) (4.12.2)\n",
            "Requirement already satisfied: charset-normalizer<4,>=2 in /usr/local/lib/python3.10/dist-packages (from requests->transformers) (3.3.2)\n",
            "Requirement already satisfied: idna<4,>=2.5 in /usr/local/lib/python3.10/dist-packages (from requests->transformers) (3.7)\n",
            "Requirement already satisfied: urllib3<3,>=1.21.1 in /usr/local/lib/python3.10/dist-packages (from requests->transformers) (2.0.7)\n",
            "Requirement already satisfied: certifi>=2017.4.17 in /usr/local/lib/python3.10/dist-packages (from requests->transformers) (2024.7.4)\n",
            "Collecting tensorflow-gpu\n",
            "  Downloading tensorflow-gpu-2.12.0.tar.gz (2.6 kB)\n",
            "  \u001b[1;31merror\u001b[0m: \u001b[1msubprocess-exited-with-error\u001b[0m\n",
            "  \n",
            "  \u001b[31m×\u001b[0m \u001b[32mpython setup.py egg_info\u001b[0m did not run successfully.\n",
            "  \u001b[31m│\u001b[0m exit code: \u001b[1;36m1\u001b[0m\n",
            "  \u001b[31m╰─>\u001b[0m See above for output.\n",
            "  \n",
            "  \u001b[1;35mnote\u001b[0m: This error originates from a subprocess, and is likely not a problem with pip.\n",
            "  Preparing metadata (setup.py) ... \u001b[?25l\u001b[?25herror\n",
            "\u001b[1;31merror\u001b[0m: \u001b[1mmetadata-generation-failed\u001b[0m\n",
            "\n",
            "\u001b[31m×\u001b[0m Encountered error while generating package metadata.\n",
            "\u001b[31m╰─>\u001b[0m See above for output.\n",
            "\n",
            "\u001b[1;35mnote\u001b[0m: This is an issue with the package mentioned above, not pip.\n",
            "\u001b[1;36mhint\u001b[0m: See above for details.\n"
          ]
        }
      ],
      "source": [
        "!pip install gensim==4.3.1\n",
        "!pip install transformers\n",
        "!pip install tensorflow-gpu"
      ]
    },
    {
      "cell_type": "code",
      "execution_count": null,
      "metadata": {
        "id": "W8wlPPalK34x"
      },
      "outputs": [],
      "source": [
        "#import gensim.downloader as api\n",
        "#wv = api.load('word2vec-google-news-300')"
      ]
    },
    {
      "cell_type": "markdown",
      "source": [],
      "metadata": {
        "id": "ir1bNGb7LvIz"
      }
    },
    {
      "cell_type": "code",
      "execution_count": 3,
      "metadata": {
        "id": "qdWPrgGrK34y"
      },
      "outputs": [],
      "source": [
        "from transformers import BertTokenizer, TFBertModel\n",
        "import torch"
      ]
    },
    {
      "cell_type": "code",
      "execution_count": 4,
      "metadata": {
        "id": "Q4hi-Z-oK34y",
        "outputId": "2ea3f131-d91d-414e-f348-4a2dc0350a22",
        "colab": {
          "base_uri": "https://localhost:8080/",
          "height": 397,
          "referenced_widgets": [
            "ea1fc41ea7554fb894d92b2298be449e",
            "1db61c5571b84b69ba94d89b08319074",
            "3530ffbfd292462e87bd718d0d553ab5",
            "2b3f316f9c4944868717da4acb2c7470",
            "e078da0501d44275b0057451de54336a",
            "ca4f621df2a84adf8f6e4864c5da664a",
            "750d288b6b554583836eafa884d89aa7",
            "ab38ca8bfe3448a2b1b7e31f4ccc45d3",
            "4ae343144ddf4c8cb31d60649c8ebd1e",
            "a9c35369ae65427fb2fc814e0530723c",
            "231f167705324c918ae17d3100770fc9",
            "4852238cecca4d5db89dbae29d9e52e2",
            "f5b3a715147c4ae5b15b2ba413fe4234",
            "ea04c724af8946868b43fb23c336eb62",
            "195a26918a9245ac97e939e69e6c3015",
            "c9d642c6b10441a385e9bc0f6f710beb",
            "082c9ec4f204402daa2ee43a702cf5ff",
            "636240bd36a446608c7cce956f884fe8",
            "d43e51e4afcc426599eab983fe975e33",
            "c318444425014d03b407434ae0a83846",
            "16a197300e044280ab7efd59c43a3bd3",
            "ab2be3dcb664469d82cdedff6e3dc20b",
            "b61c53c270b648c18e0ab2d2150ba6fc",
            "39b96baefafa425d899a6e8df84d5688",
            "66a66ad422d54761a65513d9ac7f86c4",
            "1a44014c65384e1ba74dfb005526d947",
            "3671a6e1552645fa861392a9b478e421",
            "b3b78c87cff34a238de9e0c336e8b2f6",
            "c63b3556a94f4232b039966d1fbf60fa",
            "fe7d982a1c234b5e967efc3ca0953ab4",
            "cd0b9340f23d4e74a3d686a5f5370f41",
            "e080e1b65b2c4bb887e8d6a90ddb8d0f",
            "3eedaef0c08f4ee381c32862813d658a",
            "835b406171084bc3b02b182430fdcdb5",
            "c1e95140d90042dbaaa99d79b0d32808",
            "5c1b1235e1d54d08b162bd0b5d9484a2",
            "bfca14b194b846ddaf1e8d05701c22be",
            "050236bc83c54d5a91c02a3f295a05b1",
            "434cb8fabdf14d54bb2a04d8db9d91d2",
            "0e8bd307853e4a4e8b5c757f5fc76c80",
            "de0c81a5bafb423c953e0981101d894d",
            "b30a063cf93b47b689e858fd5f52e055",
            "5d820eef1f744ff4bb4fd66083d5790d",
            "f8c8ff1d38764acf8a5e4d391d91ee85",
            "5a43eedb23934a448af28296193af3c3",
            "074cf80da6284742bdf285904a5c449a",
            "0404a3c01bfb4968bc79144359282dec",
            "a10897638cdf4575b05a1b7a8375ee16",
            "e77e7a16019844218494774b24ab6e01",
            "81ccc3e2bd0e4dc79157e325a191f241",
            "dc7c8110028447de81506f4d67f9f4fe",
            "dc71f7a43bf14b7b8603f0a56fa9f3d1",
            "a560874493c7452a93ad347fbede83af",
            "fff02918009444c7b4005ee6a51720af",
            "1710f4f3236e471496807a1eaadba8e6"
          ]
        }
      },
      "outputs": [
        {
          "output_type": "stream",
          "name": "stderr",
          "text": [
            "/usr/local/lib/python3.10/dist-packages/huggingface_hub/utils/_token.py:89: UserWarning: \n",
            "The secret `HF_TOKEN` does not exist in your Colab secrets.\n",
            "To authenticate with the Hugging Face Hub, create a token in your settings tab (https://huggingface.co/settings/tokens), set it as secret in your Google Colab and restart your session.\n",
            "You will be able to reuse this secret in all of your notebooks.\n",
            "Please note that authentication is recommended but still optional to access public models or datasets.\n",
            "  warnings.warn(\n"
          ]
        },
        {
          "output_type": "display_data",
          "data": {
            "text/plain": [
              "tokenizer_config.json:   0%|          | 0.00/48.0 [00:00<?, ?B/s]"
            ],
            "application/vnd.jupyter.widget-view+json": {
              "version_major": 2,
              "version_minor": 0,
              "model_id": "ea1fc41ea7554fb894d92b2298be449e"
            }
          },
          "metadata": {}
        },
        {
          "output_type": "display_data",
          "data": {
            "text/plain": [
              "vocab.txt:   0%|          | 0.00/232k [00:00<?, ?B/s]"
            ],
            "application/vnd.jupyter.widget-view+json": {
              "version_major": 2,
              "version_minor": 0,
              "model_id": "4852238cecca4d5db89dbae29d9e52e2"
            }
          },
          "metadata": {}
        },
        {
          "output_type": "display_data",
          "data": {
            "text/plain": [
              "tokenizer.json:   0%|          | 0.00/466k [00:00<?, ?B/s]"
            ],
            "application/vnd.jupyter.widget-view+json": {
              "version_major": 2,
              "version_minor": 0,
              "model_id": "b61c53c270b648c18e0ab2d2150ba6fc"
            }
          },
          "metadata": {}
        },
        {
          "output_type": "display_data",
          "data": {
            "text/plain": [
              "config.json:   0%|          | 0.00/570 [00:00<?, ?B/s]"
            ],
            "application/vnd.jupyter.widget-view+json": {
              "version_major": 2,
              "version_minor": 0,
              "model_id": "835b406171084bc3b02b182430fdcdb5"
            }
          },
          "metadata": {}
        },
        {
          "output_type": "display_data",
          "data": {
            "text/plain": [
              "model.safetensors:   0%|          | 0.00/440M [00:00<?, ?B/s]"
            ],
            "application/vnd.jupyter.widget-view+json": {
              "version_major": 2,
              "version_minor": 0,
              "model_id": "5a43eedb23934a448af28296193af3c3"
            }
          },
          "metadata": {}
        },
        {
          "output_type": "stream",
          "name": "stderr",
          "text": [
            "Some weights of the PyTorch model were not used when initializing the TF 2.0 model TFBertModel: ['cls.predictions.transform.dense.bias', 'cls.predictions.transform.dense.weight', 'cls.seq_relationship.weight', 'cls.predictions.transform.LayerNorm.weight', 'cls.predictions.bias', 'cls.predictions.transform.LayerNorm.bias', 'cls.seq_relationship.bias']\n",
            "- This IS expected if you are initializing TFBertModel from a PyTorch model trained on another task or with another architecture (e.g. initializing a TFBertForSequenceClassification model from a BertForPreTraining model).\n",
            "- This IS NOT expected if you are initializing TFBertModel from a PyTorch model that you expect to be exactly identical (e.g. initializing a TFBertForSequenceClassification model from a BertForSequenceClassification model).\n",
            "All the weights of TFBertModel were initialized from the PyTorch model.\n",
            "If your task is similar to the task the model of the checkpoint was trained on, you can already use TFBertModel for predictions without further training.\n"
          ]
        }
      ],
      "source": [
        "model_name = 'bert-base-uncased'\n",
        "tokenizer = BertTokenizer.from_pretrained(model_name)\n",
        "bert_model = TFBertModel.from_pretrained(model_name)"
      ]
    },
    {
      "cell_type": "markdown",
      "metadata": {
        "id": "pxgvGz76K34y"
      },
      "source": [
        "!kaggle competitions download -c fake-news"
      ]
    },
    {
      "cell_type": "code",
      "execution_count": 16,
      "metadata": {
        "id": "SOzWkAuKK34y",
        "outputId": "017ecf95-456f-4fa6-c2dc-ae3df161b525",
        "colab": {
          "base_uri": "https://localhost:8080/",
          "height": 36
        }
      },
      "outputs": [
        {
          "output_type": "execute_result",
          "data": {
            "text/plain": [
              "'/content'"
            ],
            "application/vnd.google.colaboratory.intrinsic+json": {
              "type": "string"
            }
          },
          "metadata": {},
          "execution_count": 16
        }
      ],
      "source": [
        "import os\n",
        "os.getcwd()"
      ]
    },
    {
      "cell_type": "code",
      "execution_count": 18,
      "metadata": {
        "id": "DRZ6hDJEK34z"
      },
      "outputs": [],
      "source": [
        "df=pd.read_csv(r'train.csv')"
      ]
    },
    {
      "cell_type": "code",
      "execution_count": 19,
      "metadata": {
        "id": "5Odz1FKuK34z",
        "outputId": "215dacc8-cd6c-4eab-e143-44127fef0ea6",
        "colab": {
          "base_uri": "https://localhost:8080/",
          "height": 379
        }
      },
      "outputs": [
        {
          "output_type": "execute_result",
          "data": {
            "text/plain": [
              "   id                                              title              author  \\\n",
              "0   0  House Dem Aide: We Didn’t Even See Comey’s Let...       Darrell Lucus   \n",
              "1   1  FLYNN: Hillary Clinton, Big Woman on Campus - ...     Daniel J. Flynn   \n",
              "2   2                  Why the Truth Might Get You Fired  Consortiumnews.com   \n",
              "3   3  15 Civilians Killed In Single US Airstrike Hav...     Jessica Purkiss   \n",
              "4   4  Iranian woman jailed for fictional unpublished...      Howard Portnoy   \n",
              "\n",
              "                                                text  label  \n",
              "0  House Dem Aide: We Didn’t Even See Comey’s Let...      1  \n",
              "1  Ever get the feeling your life circles the rou...      0  \n",
              "2  Why the Truth Might Get You Fired October 29, ...      1  \n",
              "3  Videos 15 Civilians Killed In Single US Airstr...      1  \n",
              "4  Print \\nAn Iranian woman has been sentenced to...      1  "
            ],
            "text/html": [
              "\n",
              "  <div id=\"df-2bde2a98-b4ad-41fc-8d3a-c768821d9fbe\" class=\"colab-df-container\">\n",
              "    <div>\n",
              "<style scoped>\n",
              "    .dataframe tbody tr th:only-of-type {\n",
              "        vertical-align: middle;\n",
              "    }\n",
              "\n",
              "    .dataframe tbody tr th {\n",
              "        vertical-align: top;\n",
              "    }\n",
              "\n",
              "    .dataframe thead th {\n",
              "        text-align: right;\n",
              "    }\n",
              "</style>\n",
              "<table border=\"1\" class=\"dataframe\">\n",
              "  <thead>\n",
              "    <tr style=\"text-align: right;\">\n",
              "      <th></th>\n",
              "      <th>id</th>\n",
              "      <th>title</th>\n",
              "      <th>author</th>\n",
              "      <th>text</th>\n",
              "      <th>label</th>\n",
              "    </tr>\n",
              "  </thead>\n",
              "  <tbody>\n",
              "    <tr>\n",
              "      <th>0</th>\n",
              "      <td>0</td>\n",
              "      <td>House Dem Aide: We Didn’t Even See Comey’s Let...</td>\n",
              "      <td>Darrell Lucus</td>\n",
              "      <td>House Dem Aide: We Didn’t Even See Comey’s Let...</td>\n",
              "      <td>1</td>\n",
              "    </tr>\n",
              "    <tr>\n",
              "      <th>1</th>\n",
              "      <td>1</td>\n",
              "      <td>FLYNN: Hillary Clinton, Big Woman on Campus - ...</td>\n",
              "      <td>Daniel J. Flynn</td>\n",
              "      <td>Ever get the feeling your life circles the rou...</td>\n",
              "      <td>0</td>\n",
              "    </tr>\n",
              "    <tr>\n",
              "      <th>2</th>\n",
              "      <td>2</td>\n",
              "      <td>Why the Truth Might Get You Fired</td>\n",
              "      <td>Consortiumnews.com</td>\n",
              "      <td>Why the Truth Might Get You Fired October 29, ...</td>\n",
              "      <td>1</td>\n",
              "    </tr>\n",
              "    <tr>\n",
              "      <th>3</th>\n",
              "      <td>3</td>\n",
              "      <td>15 Civilians Killed In Single US Airstrike Hav...</td>\n",
              "      <td>Jessica Purkiss</td>\n",
              "      <td>Videos 15 Civilians Killed In Single US Airstr...</td>\n",
              "      <td>1</td>\n",
              "    </tr>\n",
              "    <tr>\n",
              "      <th>4</th>\n",
              "      <td>4</td>\n",
              "      <td>Iranian woman jailed for fictional unpublished...</td>\n",
              "      <td>Howard Portnoy</td>\n",
              "      <td>Print \\nAn Iranian woman has been sentenced to...</td>\n",
              "      <td>1</td>\n",
              "    </tr>\n",
              "  </tbody>\n",
              "</table>\n",
              "</div>\n",
              "    <div class=\"colab-df-buttons\">\n",
              "\n",
              "  <div class=\"colab-df-container\">\n",
              "    <button class=\"colab-df-convert\" onclick=\"convertToInteractive('df-2bde2a98-b4ad-41fc-8d3a-c768821d9fbe')\"\n",
              "            title=\"Convert this dataframe to an interactive table.\"\n",
              "            style=\"display:none;\">\n",
              "\n",
              "  <svg xmlns=\"http://www.w3.org/2000/svg\" height=\"24px\" viewBox=\"0 -960 960 960\">\n",
              "    <path d=\"M120-120v-720h720v720H120Zm60-500h600v-160H180v160Zm220 220h160v-160H400v160Zm0 220h160v-160H400v160ZM180-400h160v-160H180v160Zm440 0h160v-160H620v160ZM180-180h160v-160H180v160Zm440 0h160v-160H620v160Z\"/>\n",
              "  </svg>\n",
              "    </button>\n",
              "\n",
              "  <style>\n",
              "    .colab-df-container {\n",
              "      display:flex;\n",
              "      gap: 12px;\n",
              "    }\n",
              "\n",
              "    .colab-df-convert {\n",
              "      background-color: #E8F0FE;\n",
              "      border: none;\n",
              "      border-radius: 50%;\n",
              "      cursor: pointer;\n",
              "      display: none;\n",
              "      fill: #1967D2;\n",
              "      height: 32px;\n",
              "      padding: 0 0 0 0;\n",
              "      width: 32px;\n",
              "    }\n",
              "\n",
              "    .colab-df-convert:hover {\n",
              "      background-color: #E2EBFA;\n",
              "      box-shadow: 0px 1px 2px rgba(60, 64, 67, 0.3), 0px 1px 3px 1px rgba(60, 64, 67, 0.15);\n",
              "      fill: #174EA6;\n",
              "    }\n",
              "\n",
              "    .colab-df-buttons div {\n",
              "      margin-bottom: 4px;\n",
              "    }\n",
              "\n",
              "    [theme=dark] .colab-df-convert {\n",
              "      background-color: #3B4455;\n",
              "      fill: #D2E3FC;\n",
              "    }\n",
              "\n",
              "    [theme=dark] .colab-df-convert:hover {\n",
              "      background-color: #434B5C;\n",
              "      box-shadow: 0px 1px 3px 1px rgba(0, 0, 0, 0.15);\n",
              "      filter: drop-shadow(0px 1px 2px rgba(0, 0, 0, 0.3));\n",
              "      fill: #FFFFFF;\n",
              "    }\n",
              "  </style>\n",
              "\n",
              "    <script>\n",
              "      const buttonEl =\n",
              "        document.querySelector('#df-2bde2a98-b4ad-41fc-8d3a-c768821d9fbe button.colab-df-convert');\n",
              "      buttonEl.style.display =\n",
              "        google.colab.kernel.accessAllowed ? 'block' : 'none';\n",
              "\n",
              "      async function convertToInteractive(key) {\n",
              "        const element = document.querySelector('#df-2bde2a98-b4ad-41fc-8d3a-c768821d9fbe');\n",
              "        const dataTable =\n",
              "          await google.colab.kernel.invokeFunction('convertToInteractive',\n",
              "                                                    [key], {});\n",
              "        if (!dataTable) return;\n",
              "\n",
              "        const docLinkHtml = 'Like what you see? Visit the ' +\n",
              "          '<a target=\"_blank\" href=https://colab.research.google.com/notebooks/data_table.ipynb>data table notebook</a>'\n",
              "          + ' to learn more about interactive tables.';\n",
              "        element.innerHTML = '';\n",
              "        dataTable['output_type'] = 'display_data';\n",
              "        await google.colab.output.renderOutput(dataTable, element);\n",
              "        const docLink = document.createElement('div');\n",
              "        docLink.innerHTML = docLinkHtml;\n",
              "        element.appendChild(docLink);\n",
              "      }\n",
              "    </script>\n",
              "  </div>\n",
              "\n",
              "\n",
              "<div id=\"df-a2db2564-0f01-4028-9faf-ab801720c683\">\n",
              "  <button class=\"colab-df-quickchart\" onclick=\"quickchart('df-a2db2564-0f01-4028-9faf-ab801720c683')\"\n",
              "            title=\"Suggest charts\"\n",
              "            style=\"display:none;\">\n",
              "\n",
              "<svg xmlns=\"http://www.w3.org/2000/svg\" height=\"24px\"viewBox=\"0 0 24 24\"\n",
              "     width=\"24px\">\n",
              "    <g>\n",
              "        <path d=\"M19 3H5c-1.1 0-2 .9-2 2v14c0 1.1.9 2 2 2h14c1.1 0 2-.9 2-2V5c0-1.1-.9-2-2-2zM9 17H7v-7h2v7zm4 0h-2V7h2v10zm4 0h-2v-4h2v4z\"/>\n",
              "    </g>\n",
              "</svg>\n",
              "  </button>\n",
              "\n",
              "<style>\n",
              "  .colab-df-quickchart {\n",
              "      --bg-color: #E8F0FE;\n",
              "      --fill-color: #1967D2;\n",
              "      --hover-bg-color: #E2EBFA;\n",
              "      --hover-fill-color: #174EA6;\n",
              "      --disabled-fill-color: #AAA;\n",
              "      --disabled-bg-color: #DDD;\n",
              "  }\n",
              "\n",
              "  [theme=dark] .colab-df-quickchart {\n",
              "      --bg-color: #3B4455;\n",
              "      --fill-color: #D2E3FC;\n",
              "      --hover-bg-color: #434B5C;\n",
              "      --hover-fill-color: #FFFFFF;\n",
              "      --disabled-bg-color: #3B4455;\n",
              "      --disabled-fill-color: #666;\n",
              "  }\n",
              "\n",
              "  .colab-df-quickchart {\n",
              "    background-color: var(--bg-color);\n",
              "    border: none;\n",
              "    border-radius: 50%;\n",
              "    cursor: pointer;\n",
              "    display: none;\n",
              "    fill: var(--fill-color);\n",
              "    height: 32px;\n",
              "    padding: 0;\n",
              "    width: 32px;\n",
              "  }\n",
              "\n",
              "  .colab-df-quickchart:hover {\n",
              "    background-color: var(--hover-bg-color);\n",
              "    box-shadow: 0 1px 2px rgba(60, 64, 67, 0.3), 0 1px 3px 1px rgba(60, 64, 67, 0.15);\n",
              "    fill: var(--button-hover-fill-color);\n",
              "  }\n",
              "\n",
              "  .colab-df-quickchart-complete:disabled,\n",
              "  .colab-df-quickchart-complete:disabled:hover {\n",
              "    background-color: var(--disabled-bg-color);\n",
              "    fill: var(--disabled-fill-color);\n",
              "    box-shadow: none;\n",
              "  }\n",
              "\n",
              "  .colab-df-spinner {\n",
              "    border: 2px solid var(--fill-color);\n",
              "    border-color: transparent;\n",
              "    border-bottom-color: var(--fill-color);\n",
              "    animation:\n",
              "      spin 1s steps(1) infinite;\n",
              "  }\n",
              "\n",
              "  @keyframes spin {\n",
              "    0% {\n",
              "      border-color: transparent;\n",
              "      border-bottom-color: var(--fill-color);\n",
              "      border-left-color: var(--fill-color);\n",
              "    }\n",
              "    20% {\n",
              "      border-color: transparent;\n",
              "      border-left-color: var(--fill-color);\n",
              "      border-top-color: var(--fill-color);\n",
              "    }\n",
              "    30% {\n",
              "      border-color: transparent;\n",
              "      border-left-color: var(--fill-color);\n",
              "      border-top-color: var(--fill-color);\n",
              "      border-right-color: var(--fill-color);\n",
              "    }\n",
              "    40% {\n",
              "      border-color: transparent;\n",
              "      border-right-color: var(--fill-color);\n",
              "      border-top-color: var(--fill-color);\n",
              "    }\n",
              "    60% {\n",
              "      border-color: transparent;\n",
              "      border-right-color: var(--fill-color);\n",
              "    }\n",
              "    80% {\n",
              "      border-color: transparent;\n",
              "      border-right-color: var(--fill-color);\n",
              "      border-bottom-color: var(--fill-color);\n",
              "    }\n",
              "    90% {\n",
              "      border-color: transparent;\n",
              "      border-bottom-color: var(--fill-color);\n",
              "    }\n",
              "  }\n",
              "</style>\n",
              "\n",
              "  <script>\n",
              "    async function quickchart(key) {\n",
              "      const quickchartButtonEl =\n",
              "        document.querySelector('#' + key + ' button');\n",
              "      quickchartButtonEl.disabled = true;  // To prevent multiple clicks.\n",
              "      quickchartButtonEl.classList.add('colab-df-spinner');\n",
              "      try {\n",
              "        const charts = await google.colab.kernel.invokeFunction(\n",
              "            'suggestCharts', [key], {});\n",
              "      } catch (error) {\n",
              "        console.error('Error during call to suggestCharts:', error);\n",
              "      }\n",
              "      quickchartButtonEl.classList.remove('colab-df-spinner');\n",
              "      quickchartButtonEl.classList.add('colab-df-quickchart-complete');\n",
              "    }\n",
              "    (() => {\n",
              "      let quickchartButtonEl =\n",
              "        document.querySelector('#df-a2db2564-0f01-4028-9faf-ab801720c683 button');\n",
              "      quickchartButtonEl.style.display =\n",
              "        google.colab.kernel.accessAllowed ? 'block' : 'none';\n",
              "    })();\n",
              "  </script>\n",
              "</div>\n",
              "\n",
              "    </div>\n",
              "  </div>\n"
            ],
            "application/vnd.google.colaboratory.intrinsic+json": {
              "type": "dataframe",
              "variable_name": "df",
              "summary": "{\n  \"name\": \"df\",\n  \"rows\": 20800,\n  \"fields\": [\n    {\n      \"column\": \"id\",\n      \"properties\": {\n        \"dtype\": \"number\",\n        \"std\": 6004,\n        \"min\": 0,\n        \"max\": 20799,\n        \"num_unique_values\": 20800,\n        \"samples\": [\n          14649,\n          9231,\n          6473\n        ],\n        \"semantic_type\": \"\",\n        \"description\": \"\"\n      }\n    },\n    {\n      \"column\": \"title\",\n      \"properties\": {\n        \"dtype\": \"string\",\n        \"num_unique_values\": 19803,\n        \"samples\": [\n          \"Florida Republicans Voting for Hillary Clinton \\u00b7 Guardian Liberty Voice\",\n          \"\\u2018Weekend Warriors\\u2019 Show Survival Benefits - The New York Times\",\n          \"Part 6, Democratic Network Money: Commons Money that Works for Us, Instead of Us Working for It\"\n        ],\n        \"semantic_type\": \"\",\n        \"description\": \"\"\n      }\n    },\n    {\n      \"column\": \"author\",\n      \"properties\": {\n        \"dtype\": \"category\",\n        \"num_unique_values\": 4201,\n        \"samples\": [\n          \"AARGH63\",\n          \"Dave Kehr\",\n          \"Patrick Healy\"\n        ],\n        \"semantic_type\": \"\",\n        \"description\": \"\"\n      }\n    },\n    {\n      \"column\": \"text\",\n      \"properties\": {\n        \"dtype\": \"string\",\n        \"num_unique_values\": 20386,\n        \"samples\": [\n          \"Multan a un ultrasur por lanzar a un jugador del Bar\\u00e7a al campo durante el partido Madrid-Legia EL PARTIDO SE CONSIDERABA DE ALTO RIESGO PARA LOS JUGADORES DEL BARCELONA Real Madrid \\nUn jugador barcelonista golpe\\u00f3 a varios jugadores durante el encuentro de la Champions que tuvo lugar ayer entre el Real Madrid y el Legia Varsovia despu\\u00e9s de ser arrojado desde la grada por un hincha madridista. \\nEl portero del Legia, muy molesto, intent\\u00f3 devolver el jugador a las gradas de una patada y se encar\\u00f3 con los Ultrasur, que ya preparaban a otro jugador para echarlo al campo y entorpecer el encuentro. En esta ocasi\\u00f3n pretend\\u00edan prenderlo con un mechero antes de lanzarlo al c\\u00e9sped. \\nLas autoridades han vuelto a pedir a los aficionados que dejen de lanzar cosas al campo como botellas, monedas y jugadores del Barcelona. El dispositivo de seguridad no puedo hacer nada por evitar que algunos hinchas introdujeran a jugadores barcelonistas a la grada, pues los llevaban camuflados dentro de bocadillos de gran tama\\u00f1o. \\nEl partido pudo ser reanudado cuando el \\u00e1rbitro apart\\u00f3 a un rinc\\u00f3n del c\\u00e9sped al jugador barcelonista.\",\n          \"Written by Jacob G. Hornberger   As US officials continue to accuse Russia of meddling with the US presidential election, an accusation that they have provided no evidence whatsoever to support, let\\u2019s review some of the US government\\u2019s history of meddling with elections in others countries.1. In 1951, the democratically elected parliament of Iran elected a man named Mohammad Mossadegh to be Iran\\u2019s prime minister. Mossadegh angered British Empire officials by nationalizing British oil interests in the country.British officials then turned to the CIA for assistance. In 1953, the CIA secretly fomented a violent coup in Iran, which succeeded in ousting Mossadegh from power and making the Shah of Iran the supreme unelected dictator of the country.To fortify the Shah\\u2019s dictatorial hold on power, the CIA helped organize and train the his domestic police force, the Savak, which was essentially a combination of the CIA, the NSA, and the military. Part of the CIA\\u2019s training involved teaching Savak agents the art of torture.For the next 26 years, the Iranian people suffered under one of the most brutal and tyrannical dictatorships in the world, one that US officials fully supported and called an ally and friend of the United States.In 1979, Iranians successfully revolted against the Shah\\u2019s regime and ousted him from power. One result was not a restoration of the democratic system that had elected Mossadegh but rather another brutal dictatorship, this time a religious one. Another result is the bad relations between the Iran and US governments that continues to exist today.2. In 1951, the Guatemalan people democratically elected a man named Jacobo Arbenz to be their president. Arbenz, however, was not satisfactory to US officials, especially the national-security branch of the government, specifically the Pentagon and the CIA. The reason that US officials opposed Arbenz was that he was a socialist, and US officials considered a socialist president of Guatemala to be a threat to \\u201cnational security\\u201d here in the United States.In 1954 \\u2014 one year after the coup in Iran, the CIA fomented a violent military coup that succeeded in removing Arbenz from power and replacing him with one of the most brutal unelected military dictators in Latin American history, a man named Carlos Castillo Armas. The CIA had a kill list prepared for the coup, which Arbenz was able to escape by fleeing the country before Castillo was able to get him. The CIA\\u2019s destruction of Guatemala\\u2019s democratic system threw the nation into a 30-year civil war that ended up killing millions of Guatemalan people, especially many of the poor.3. In 1960 a man named Patrice Lamumba was elected Congo\\u2019s first prime minister after independence from Belgium. Lamumba spoke out against Western imperialism and refused to take sides in the Cold War, which caused the CIA to conclude that he was a threat to \\u201cnational security.\\u201d The CIA orchestrated the assassination of Lamumba, which ended up taking place on January 17, 1961, just three days before President Kennedy, who liked Lamumba and who would have ordered the CIA to stand down, was to be sworn into office.4. In 1970 a man named Salvador Allende received a plurality of votes in the presidential election in Chile. Pursuant to the Chilean constitution, the election was thrown into the national congress. President Richard Nixon, his national-security team, the Pentagon, and the CIA concluded that because Allende believed in communism and socialism, he posed a grave threat to \\u201cnational security\\u201d here in the United States. The CIA attempted to bribe members of the congress to vote against Allende. It also orchestrated the kidnapping of the head of Chile\\u2019s armed forces, Gen Rene Schneider, who opposed a US military coup in his country, especially since a coup would violate the country\\u2019s constitution. The kidnapping attempt on Schneider left him dead.The CIA then fomented a coup that took place on 9/11 1973 that violently ousted Allende from power and left him dead. Replacing him was army Gen. Augusto Pinochet, one of the most brutal unelected military dictators in history. By the time Pinochet\\u2019s 17-year reign of military terror came to an end in 1990, he and his CIA-supported goons had incarcerated, raped, tortured, or killed tens of thousands of innocent people \\u2014 that is, people whose only \\u201ccrime\\u201d was believing in socialism \\u2014 with the full support of the CIA, Pentagon, Nixon, and his \\u201cnational security\\u201d team.Of course, there are also the more recent support of regime-change operations that ousted democratically elected presidents that the US government disapproved of, such as in Ukraine and Egypt.And then there is the long list of countries where unelected dictators were targeted for regime change by the US national security state and, where successful, replaced with a brutal unelected pro-US dictator. Cuba, Indonesia, Iraq, Libya, and Syria all come to mind.US officials need to keep in mind that when they point their accusatory index finger at Russia for supposedly meddling in the US presidential election, US officials have, at the same time, three fingers pointing back at themselves. Reprinted with permission from the Future of Freedom Foundation . Related\",\n          \"When hearing of an establishment called the Black and Blue Steakhouse, one could reasonably surmise that some, or at the very least one, extremely tough person could be found somewhere in there. Well, the three terrorists who attacked London Bridge over the weekend found the Black and Blue Steakhouse, and they found the toughest man in the house. [Or, maybe more to the point, he found them.  Roy Larner, 47, is a huge fan of the South East London soccer team Millwall F. C. The team is known as the Lions, and when   terrorists entered the Black and Blue to kill innocent people, Larner let them know who is the true king of the jungle. After the terrorists entered, with obvious bad intentions, Larner sprang into action: \\u201cLike an idiot I shouted back at them. I thought, \\u2018I need to take the p*** out of these b*****s.\\u2019 \\u201cI took a few steps towards them and said, \\u2018F*** you, I\\u2019m Millwall.\\u2019 So they started attacking me. \\u201cI stood in front of them trying to fight them off. Everyone else ran to the back. I was on my own against all three of them, that\\u2019s why I got hurt so much. It was just me, trying to grab them with my bare hands and hold on. I was swinging. \\u201cI got stabbed and sliced eight times. They got me in my head, chest and both hands. There was blood everywhere. \\u201cThey were saying, \\u2018Islam, Islam!\\u2019 I said again, \\u2018F*** you, I\\u2019m Millwall!\\u2019 \\u201cIt was the worst thing I could have done as they carried on attacking me. \\u201cLuckily, none of the blows were straight at me or I\\u2019d be dead. \\u201d A petition has begun, with the aim of awarding Larner with the George Cross for bravery. The award is the second highest commendation granted by Great Britain. Looking at his scars, it\\u2019s really hard to imagine that he won\\u2019t get it. If Millwall is looking for a new slogan, they may have found it. \\u201cF*** you, I\\u2019m Millwall!\\u201d has a nice ring to it. Follow Dylan Gwinn on Twitter: @themightygwinn\"\n        ],\n        \"semantic_type\": \"\",\n        \"description\": \"\"\n      }\n    },\n    {\n      \"column\": \"label\",\n      \"properties\": {\n        \"dtype\": \"number\",\n        \"std\": 0,\n        \"min\": 0,\n        \"max\": 1,\n        \"num_unique_values\": 2,\n        \"samples\": [\n          0,\n          1\n        ],\n        \"semantic_type\": \"\",\n        \"description\": \"\"\n      }\n    }\n  ]\n}"
            }
          },
          "metadata": {},
          "execution_count": 19
        }
      ],
      "source": [
        "df.head()"
      ]
    },
    {
      "cell_type": "code",
      "execution_count": 20,
      "metadata": {
        "id": "g_reeVwcK34z"
      },
      "outputs": [],
      "source": [
        "###Drop Nan Values\n",
        "df=df.dropna()\n"
      ]
    },
    {
      "cell_type": "code",
      "execution_count": 21,
      "metadata": {
        "id": "WV6XfdnWK340"
      },
      "outputs": [],
      "source": [
        "## Get the Independent Features\n",
        "\n",
        "X=df.drop('label',axis=1)"
      ]
    },
    {
      "cell_type": "code",
      "execution_count": 22,
      "metadata": {
        "id": "6OtIAjZtK340"
      },
      "outputs": [],
      "source": [
        "## Get the Dependent features\n",
        "y=df['label']"
      ]
    },
    {
      "cell_type": "code",
      "execution_count": 23,
      "metadata": {
        "id": "djAqQY5yK340",
        "outputId": "81ad9530-74ab-4314-f498-161d0808242a",
        "colab": {
          "base_uri": "https://localhost:8080/"
        }
      },
      "outputs": [
        {
          "output_type": "execute_result",
          "data": {
            "text/plain": [
              "label\n",
              "0    10361\n",
              "1     7924\n",
              "Name: count, dtype: int64"
            ]
          },
          "metadata": {},
          "execution_count": 23
        }
      ],
      "source": [
        "y.value_counts()"
      ]
    },
    {
      "cell_type": "code",
      "execution_count": 24,
      "metadata": {
        "id": "cQ0VhelhK340",
        "outputId": "d0f58ccd-e298-41e4-f85e-22b1df3749f1",
        "colab": {
          "base_uri": "https://localhost:8080/"
        }
      },
      "outputs": [
        {
          "output_type": "execute_result",
          "data": {
            "text/plain": [
              "(18285, 4)"
            ]
          },
          "metadata": {},
          "execution_count": 24
        }
      ],
      "source": [
        "X.shape"
      ]
    },
    {
      "cell_type": "code",
      "execution_count": 25,
      "metadata": {
        "id": "F7JmMuXhK341",
        "outputId": "50b6c407-f50b-4065-a430-551eeb33702a",
        "colab": {
          "base_uri": "https://localhost:8080/"
        }
      },
      "outputs": [
        {
          "output_type": "execute_result",
          "data": {
            "text/plain": [
              "(18285,)"
            ]
          },
          "metadata": {},
          "execution_count": 25
        }
      ],
      "source": [
        "y.shape"
      ]
    },
    {
      "cell_type": "code",
      "execution_count": 26,
      "metadata": {
        "id": "D_wnE-hzK341"
      },
      "outputs": [],
      "source": [
        "import tensorflow as tf"
      ]
    },
    {
      "cell_type": "code",
      "execution_count": 27,
      "metadata": {
        "id": "qvXomsrWK341",
        "outputId": "b94f6ce2-210d-4c20-eab7-07e7ef48b55b",
        "colab": {
          "base_uri": "https://localhost:8080/",
          "height": 36
        }
      },
      "outputs": [
        {
          "output_type": "execute_result",
          "data": {
            "text/plain": [
              "'2.15.0'"
            ],
            "application/vnd.google.colaboratory.intrinsic+json": {
              "type": "string"
            }
          },
          "metadata": {},
          "execution_count": 27
        }
      ],
      "source": [
        "tf.__version__"
      ]
    },
    {
      "cell_type": "code",
      "execution_count": 28,
      "metadata": {
        "id": "7ijJZgyzK341"
      },
      "outputs": [],
      "source": [
        "from tensorflow.keras.layers import Embedding\n",
        "from tensorflow.keras.preprocessing.sequence import pad_sequences\n",
        "from tensorflow.keras.models import Sequential\n",
        "from tensorflow.keras.preprocessing.text import one_hot\n",
        "from tensorflow.keras.layers import LSTM\n",
        "from tensorflow.keras.layers import Dense\n",
        "from tensorflow.keras.layers import Bidirectional\n",
        "from tensorflow.keras.layers import Dropout"
      ]
    },
    {
      "cell_type": "code",
      "execution_count": 29,
      "metadata": {
        "id": "XSa7G9YMK341"
      },
      "outputs": [],
      "source": [
        "### Vocabulary size\n",
        "voc_size=5000"
      ]
    },
    {
      "cell_type": "markdown",
      "metadata": {
        "id": "j2uh5m1DK341"
      },
      "source": [
        "### Onehot Representation"
      ]
    },
    {
      "cell_type": "code",
      "execution_count": 30,
      "metadata": {
        "id": "rV-hZeqSK342"
      },
      "outputs": [],
      "source": [
        "messages=X.copy()"
      ]
    },
    {
      "cell_type": "code",
      "execution_count": 31,
      "metadata": {
        "id": "m1QV-ozTK342",
        "outputId": "6aff7b36-e1ff-4998-afbf-7470de83813f",
        "colab": {
          "base_uri": "https://localhost:8080/",
          "height": 36
        }
      },
      "outputs": [
        {
          "output_type": "execute_result",
          "data": {
            "text/plain": [
              "'FLYNN: Hillary Clinton, Big Woman on Campus - Breitbart'"
            ],
            "application/vnd.google.colaboratory.intrinsic+json": {
              "type": "string"
            }
          },
          "metadata": {},
          "execution_count": 31
        }
      ],
      "source": [
        "messages['title'][1]"
      ]
    },
    {
      "cell_type": "code",
      "execution_count": 32,
      "metadata": {
        "id": "Yi8fEylfK342"
      },
      "outputs": [],
      "source": [
        "messages.reset_index(inplace=True)"
      ]
    },
    {
      "cell_type": "code",
      "execution_count": 33,
      "metadata": {
        "id": "xYA5oiwDK342"
      },
      "outputs": [],
      "source": [
        "import nltk\n",
        "import re\n",
        "from nltk.corpus import stopwords"
      ]
    },
    {
      "cell_type": "code",
      "execution_count": 34,
      "metadata": {
        "id": "lL8GX_SBK342",
        "outputId": "ec2107b2-b074-41e7-f18e-1a90fda3243f",
        "colab": {
          "base_uri": "https://localhost:8080/"
        }
      },
      "outputs": [
        {
          "output_type": "stream",
          "name": "stderr",
          "text": [
            "[nltk_data] Downloading package stopwords to /root/nltk_data...\n",
            "[nltk_data]   Unzipping corpora/stopwords.zip.\n"
          ]
        },
        {
          "output_type": "execute_result",
          "data": {
            "text/plain": [
              "True"
            ]
          },
          "metadata": {},
          "execution_count": 34
        }
      ],
      "source": [
        "nltk.download('stopwords')"
      ]
    },
    {
      "cell_type": "code",
      "execution_count": 34,
      "metadata": {
        "id": "E2Ljx3KUK342"
      },
      "outputs": [],
      "source": []
    },
    {
      "cell_type": "code",
      "execution_count": 35,
      "metadata": {
        "id": "2ClepVsSK342",
        "outputId": "0d9899d2-658b-4f9f-d859-4c4e7d18cd6e",
        "colab": {
          "base_uri": "https://localhost:8080/"
        }
      },
      "outputs": [
        {
          "output_type": "stream",
          "name": "stderr",
          "text": [
            "[nltk_data] Downloading package wordnet to /root/nltk_data...\n",
            "[nltk_data] Downloading package omw-1.4 to /root/nltk_data...\n",
            "[nltk_data] Downloading package punkt to /root/nltk_data...\n",
            "[nltk_data]   Unzipping tokenizers/punkt.zip.\n",
            "[nltk_data] Downloading package averaged_perceptron_tagger to\n",
            "[nltk_data]     /root/nltk_data...\n",
            "[nltk_data]   Unzipping taggers/averaged_perceptron_tagger.zip.\n"
          ]
        }
      ],
      "source": [
        "from nltk.stem import WordNetLemmatizer\n",
        "nltk.download('wordnet')  # Download WordNet (lexical database)\n",
        "nltk.download('omw-1.4')\n",
        "nltk.download('punkt')  # For sentence tokenization\n",
        "nltk.download('averaged_perceptron_tagger')  # For POS tagging\n",
        "from nltk.tokenize import word_tokenize\n",
        "from nltk.tag import pos_tag\n"
      ]
    },
    {
      "cell_type": "code",
      "execution_count": 36,
      "metadata": {
        "id": "_vaf_ZqFK343"
      },
      "outputs": [],
      "source": [
        "\n",
        "lemmatizer = WordNetLemmatizer()\n",
        "\n",
        "#take mapping\n",
        "def get_wordnet_pos(treebank_tag):\n",
        "    \"\"\"Maps treebank POS tags to WordNet POS tags.\"\"\"\n",
        "    if treebank_tag.startswith('J'):\n",
        "        return 'a'  # Adjective\n",
        "    elif treebank_tag.startswith('V'):\n",
        "        return 'v'  # Verb\n",
        "    elif treebank_tag.startswith('N'):\n",
        "        return 'n'  # Noun\n",
        "    elif treebank_tag.startswith('R'):\n",
        "        return 'r'  # Adverb\n",
        "    else:\n",
        "        return ''\n",
        "\n",
        "def lemmatiser_word(sentence):\n",
        "    lemma =[]\n",
        "    tokens = word_tokenize(sentence)  # Tokenize the sentence into words\n",
        "    tagged_words = pos_tag(tokens)    # Tag each word with its POS\n",
        "    for word,tag in tagged_words:\n",
        "        if not word in stopwords.words('english'):\n",
        "            pos_tag_simple=get_wordnet_pos(tag)\n",
        "            if pos_tag_simple:\n",
        "                lemma.append(lemmatizer.lemmatize(word, pos=pos_tag_simple))\n",
        "            else:\n",
        "                lemma.append(lemmatizer.lemmatize(word))\n",
        "\n",
        "    return \" \".join(lemma)"
      ]
    },
    {
      "cell_type": "code",
      "execution_count": 37,
      "metadata": {
        "id": "Va50WT6tK343",
        "outputId": "d41236d4-9162-465b-92a2-ff8fe4a81fec",
        "colab": {
          "base_uri": "https://localhost:8080/"
        }
      },
      "outputs": [
        {
          "output_type": "stream",
          "name": "stdout",
          "text": [
            "Abortion Pill Orders Rise 7 Latin American Nations Zika Alert - The New York Times\n"
          ]
        }
      ],
      "source": [
        "print(lemmatiser_word(messages['title'][20]))"
      ]
    },
    {
      "cell_type": "code",
      "execution_count": 38,
      "metadata": {
        "id": "gD8BJEmAK343"
      },
      "outputs": [],
      "source": [
        "### Dataset Preprocessingfrom nltk.stem import WordNetLemmatizer\n",
        "\n",
        "\n",
        "from nltk.stem.porter import PorterStemmer\n",
        "\n",
        "ps = PorterStemmer()\n",
        "corpus = []\n",
        "for i in range(0, len(messages)):\n",
        "    #print(i)\n",
        "    review = re.sub('[^a-zA-Z]', ' ', messages['title'][i])\n",
        "    review = review.lower()\n",
        "    #review = review.split()\n",
        "\n",
        "    #review = [ps.stem(word) for word in review if not word in stopwords.words('english')]\n",
        "    #review = ' '.join(review)\n",
        "    review = lemmatiser_word(review)\n",
        "\n",
        "    corpus.append(review)"
      ]
    },
    {
      "cell_type": "code",
      "execution_count": 39,
      "metadata": {
        "id": "z44H-21WK343",
        "outputId": "3031df10-2e70-460a-fa04-500743efe60a",
        "colab": {
          "base_uri": "https://localhost:8080/"
        }
      },
      "outputs": [
        {
          "output_type": "execute_result",
          "data": {
            "text/plain": [
              "['house dem aide even see comey letter jason chaffetz tweet',\n",
              " 'flynn hillary clinton big woman campus breitbart',\n",
              " 'truth might get fire',\n",
              " 'civilian kill single u airstrike identify',\n",
              " 'iranian woman jail fictional unpublished story woman stone death adultery',\n",
              " 'jackie mason hollywood would love trump bomb north korea lack trans bathroom exclusive video breitbart',\n",
              " 'beno hamon win french socialist party presidential nomination new york time',\n",
              " 'back channel plan ukraine russia courtesy trump associate new york time',\n",
              " 'obama organize action partner soros link indivisible disrupt trump agenda',\n",
              " 'bbc comedy sketch real housewife isi cause outrage',\n",
              " 'russian researcher discover secret nazi military base treasure hunter arctic photo',\n",
              " 'u official see link trump russia',\n",
              " 'yes paid government troll social medium blog forum website',\n",
              " 'major league soccer argentine find home success new york time',\n",
              " 'well fargo chief abruptly step new york time',\n",
              " 'anonymous donor pay million release everyone arrest dakota access pipeline',\n",
              " 'fbi close hillary',\n",
              " 'chuck todd buzzfeed donald trump political favor breitbart',\n",
              " 'monica lewinsky clinton sex scandal set american crime story',\n",
              " 'rob reiner trump mentally unstable breitbart',\n",
              " 'abortion pill order rise latin american nation zika alert new york time',\n",
              " 'nuke un historic treaty ban nuclear weapon',\n",
              " 'exclusive islamic state supporter vow shake west follow manchester terrorist massacre breitbart',\n",
              " 'humiliate hillary try hide camera caught min rally',\n",
              " 'andrea tantaros fox news claim retaliation sex harassment complaints new york time',\n",
              " 'hillary clinton become hawk new york time',\n",
              " 'chuck todd buzzfeed eic publish fake news breitbart',\n",
              " 'boris johnson brexit leader fumble new york time',\n",
              " 'texas oil field rebound price lull job leave behind new york time',\n",
              " 'bayer deal monsanto follow agribusiness trend raise worry farmer new york time',\n",
              " 'russia move ban jehovah witness extremist new york time',\n",
              " 'still danger zone january th',\n",
              " 'open thread u election',\n",
              " 'democrat gutierrez blame chicago gun violence nra breitbart',\n",
              " 'avoid peanut avoid allergy bad strategy new york time',\n",
              " 'mri show detail image week unborn baby breitbart',\n",
              " 'best kind milk dairy',\n",
              " 'ryan lochte drop speedo usa retailer new york time',\n",
              " 'conservative urge session clean obama civil right division breitbart',\n",
              " 'internal inquiry seal fate roger ailes fox new york time',\n",
              " 'press tv debate duff lebanon hezbollah aoun presidency video',\n",
              " 'samsung combustible galaxy note unveils new smartphone new york time',\n",
              " 'poland vow referendum migrant quota amidst eu pressure public voice hear breitbart',\n",
              " 'spark inner revolution',\n",
              " 'study half car crash involve driver distract cell phone breitbart',\n",
              " 'trump election spark individual collective healing',\n",
              " 'ep fade black jimmy church w laura eisenhower restore balance video',\n",
              " 'cognition true islam book review',\n",
              " 'donald trump win election big miracle u political history',\n",
              " 'mindful eating way fight binge new york time',\n",
              " 'major potential impact corporate tax overhaul new york time',\n",
              " 'wonder glp like day election',\n",
              " 'maker world smallest machine award nobel prize chemistry new york time',\n",
              " 'massive anti trump protest union square nyc live stream',\n",
              " 'review lion bring tear lost boy wipe dry google new york time',\n",
              " 'u general islamic state chemical attack impact u force',\n",
              " 'jury find oregon standoff defendant guilty federal conspiracy gun charge',\n",
              " 'clinton campaign stun fbi reportedly reopen probe hillary clinton email',\n",
              " 'penny speak anti abortion rally new york time',\n",
              " 'bernie sander say medium trump gutless political coward',\n",
              " 'make briquette daily waste',\n",
              " 'treason nyt vow rededication reporting',\n",
              " 'dress like woman mean new york time',\n",
              " 'ella brennan still feed lead new orleans new york time',\n",
              " 'press asia agenda obama tread lightly human right new york time',\n",
              " 'democrat percent chance retake senate new york time',\n",
              " 'judge spank transgender obsess obama lie redflag news',\n",
              " 'u diplomat urge strike assad syria new york time',\n",
              " 'franken call independent investigation trump putin crush breitbart',\n",
              " 'louisiana simone biles u presidential race tuesday evening brief new york time',\n",
              " 'turkey threaten open migrant land passage europe row dutch',\n",
              " 'huma weiner dog hillary',\n",
              " 'colin kaepernick start black panther inspire youth camp wow',\n",
              " 'trump immigration policy explain new york time',\n",
              " 'mary tyler moore mourn dick van dyke star new york time',\n",
              " 'poison',\n",
              " 'trump fan rally across nation support president new york time',\n",
              " 'fox biz reporter help bash clinton rally cover trump pack event day',\n",
              " 'fiction podcasts worth listen new york time',\n",
              " 'mike birbiglia tip make small hollywood anywhere new york time',\n",
              " 'investment strategist forecast collapse timeline last gasp economic cycle come',\n",
              " 'venezuela muzzle legislature move close one man rule new york time',\n",
              " 'whether john mccain mitt romney donald trump democrat always run war woman tactic destroy republican candidate',\n",
              " 'breitbart news daily trump boom breitbart',\n",
              " 'white house confirm gitmo transfer obama leave office',\n",
              " 'poll voter hear democratic election candidate breitbart',\n",
              " 'migrant confront judgment day old deportation order new york time',\n",
              " 'n u yale sue retirement plan fee new york time',\n",
              " 'technocracy real reason un want control internet',\n",
              " 'american driver regain appetite gas guzzler new york time',\n",
              " 'hillary clinton build million war chest double donald trump new york time',\n",
              " 'trump catch sick reporter snuck interview priceless response',\n",
              " 'senator contact russian government week',\n",
              " 'image perfectly illustrate struggle dakota access pipeline',\n",
              " 'washington state take refugee muslim rest country take refugee muslim breitbart',\n",
              " 'ncaa big keep watchful eye texas bathroom bill breitbart',\n",
              " 'massive espn financial subscriber loss drag disney first quarter sale breitbart',\n",
              " 'megyn kelly contract set expire next year prim big show new york time',\n",
              " 'teacher suspend allow student hit trump pinata cinco de mayo',\n",
              " 'break trump express concern anthony weiner illegal access classify info month ago truthfeed',\n",
              " 'snap share leap debut investor doubt value vanish new york time',\n",
              " 'clinton campaign chair dinner top doj official one day hillary benghazi hearing',\n",
              " 'tv series first female mlb pitcher can one low rat season breitbart',\n",
              " 'seek best fit woman final four return friday sunday new york time',\n",
              " 'proposal canadian national bird ruffle feather new york time',\n",
              " 'review beyonc make lemonade marital strife new york time',\n",
              " 'trump ask sharp increase military spending official say new york time',\n",
              " 'watergate smoking gun email discus clean obama hillary email',\n",
              " 'chapo trap house new leave wing podcast flagrant rip right stuff',\n",
              " 'taiwan responds china sends carrier taiwan strait new york time',\n",
              " 'mother october surprise house card come tumble',\n",
              " 'explosive assange pilger interview u election expect riot hillary win',\n",
              " 'telescope ate astronomy track surpass hubble new york time',\n",
              " 'close afghan pakistani border become humanitarian crisis new york time',\n",
              " 'tv anchor arrive white house lunch donald trump breitbart',\n",
              " 'pelosi republican tell trump bring dishonor presidency breitbart',\n",
              " 'beautiful prehistoric world earth wasteland',\n",
              " 'ignore trump news week learn new york time',\n",
              " 'donald trump unveils plan family bid woman vote new york time',\n",
              " 'montana democrat vote bill ban sharia law call repugnant breitbart',\n",
              " 'monsanto tribunal go happen',\n",
              " 'official simone bile world best gymnast new york time',\n",
              " 'literally hurt brain read economic idiocy emit trumpkins libertarian',\n",
              " 'u n secretary general complain mass reject globalism favor nationalism',\n",
              " 'trump bollywood ad meant sway indian american voter hilarious fail video',\n",
              " 'fbi find previously unseen hillary clinton email weiner laptop',\n",
              " 'year american journalist kill conspiracy theory syria prove fact',\n",
              " 'report illegal alien forego food stamp stay trump radar',\n",
              " 'make netherlands great hahaha spread worldwide',\n",
              " 'four kill injure jerusalem truck ram terror attack',\n",
              " 'leader salute comrade newt brutal megyn sic kelly beatdown play game',\n",
              " 'student black college get beaten maced protest kkk david duke',\n",
              " 'despite strict gun control one child youth shot every day ontario',\n",
              " 'rise internet fan bully new york time',\n",
              " 'newly vibrant washington fear trump drain culture new york time',\n",
              " 'feed hold interest rate steady plan slow increase new york time',\n",
              " 'battle unesco',\n",
              " 'late test white house pull easter egg roll new york time',\n",
              " 'burlesque dancer fire investigate secret service trump assassination tweet breitbart',\n",
              " 'clinton haiti',\n",
              " 'cuomo christie parallel path top trouble get new york time',\n",
              " 'top place world allow visit',\n",
              " 'new study link fluoride consumption hypothyroidism weight gain bad',\n",
              " 'james mattis secretary offense',\n",
              " 'black church burn spray paint vote trump',\n",
              " 'sears agree sell craftsman stanley black amp decker raise cash new york time',\n",
              " 'takata chief executive resign financial pressure mount new york time',\n",
              " 'goodbye good black sabbath new york time',\n",
              " 'teen geisha doll gang bust armed robbery breitbart',\n",
              " 'mohamad khweis another virginia man palestinian american muslim charge terrorism',\n",
              " 'price obamacare replacement nobody bad financially breitbart',\n",
              " 'va fail properly examine thousand veteran',\n",
              " 'trump family already swear secrecy faked moon landing soon',\n",
              " 'sport writer nfl great jim brown decade civil right work erase say nice thing donald trump breitbart',\n",
              " 'watch tv excuse republican skip donald trump convention new york time',\n",
              " 'open letter trump voter tell like',\n",
              " 'comment powerful corporate lobby quietly back hillary nobody talk runsinquicksand',\n",
              " 'hijack end peacefully libyan airliner land malta new york time',\n",
              " 'like girl girl genius new york time',\n",
              " 'scientist say canadian bacteria fossil may earth old new york time',\n",
              " 'pro government force advance syria amid talk u russia cooperation new york time',\n",
              " 'cancer agency fire withhold carcinogenic glyphosate document',\n",
              " 'work walk minute work new york time',\n",
              " 'steve harvey talk housing president elect trump new york time',\n",
              " 'coalition u troop fight mosul offensive come fire',\n",
              " 'uk citizen war hero get cheap pre fab house muslim colonizer get taxpayer fund luxurious council home',\n",
              " 'vet fight war fed demand money back illegals refugee keep money',\n",
              " 'mr trump wild ride new york time',\n",
              " 'fbi director comey bamboozle doj congress clinton',\n",
              " 'food naturally unclog artery prevent heart attack',\n",
              " 'death two state solution',\n",
              " 'comment parent date asleep car cop arrive kill facespace',\n",
              " 'donald trump team show sign post election moderation new york time',\n",
              " 'miami beach try tame raucous street fishbowl drink stay new york time',\n",
              " 'doctor mysteriously find dead summit breakthrough cure cancer',\n",
              " 'donald trump unsinkable candidate new york time',\n",
              " 'shock new mock hillary ad campaign warn take u war enlistforher fightforher dieforher',\n",
              " 'exclusive family slain border patrol agent brian terry say eric holder among real criminal responsible',\n",
              " 'trump tell reporter wall work ask israel breitbart',\n",
              " 'america survive next year',\n",
              " 'commissioner start press cleveland indian logo new york time',\n",
              " 'un plan implant everyone biometric id drill',\n",
              " 'trump attack senator credibility gorsuch comment new york time',\n",
              " 'clinton advisor lose leaked email hillary illegal activity',\n",
              " 'art laffer paul ryan perfect right breitbart',\n",
              " 'donald trump blame economic crash',\n",
              " 'pokemon go player inadvertently stop people commit suicide japan',\n",
              " 'california senate race tale diversity flailing g p new york time',\n",
              " 'exclusive source say megyn kelly would welcome back fox news',\n",
              " 'break precedent obama envoy deny extension past inauguration day new york time',\n",
              " 'brexit vote go monty python may offer clue new york time',\n",
              " 'blind mystic predict bad news trump',\n",
              " 'total vet fail leave wing snowden fan girl reality winner get access nsa secret',\n",
              " 'somalia u escalate shadow war new york time',\n",
              " 'free care blessing victim orlando nightclub attack new york time',\n",
              " 'durably democratic county country could go trump',\n",
              " 'feed challenge raise rate may existential new york time',\n",
              " 'russia intention attack anyone absurd say vladimir putin',\n",
              " 'f investigates errant flight involve harrison ford new york time',\n",
              " 'fed raise key interest rate cite strengthen economy new york time',\n",
              " 'la expresi n lo siguiente ya e la utilizada lo siguiente en el castellano',\n",
              " 'trump berate news medium new strategy need cover new york time',\n",
              " 'u drone strike target taliban leader new york time',\n",
              " 'u intelligence expect al qaeda attack monday new york virginia texas',\n",
              " 'tell cannabis great reverse alzheimer',\n",
              " 'report megyn kelly kick nbc show kardashian family interview',\n",
              " 'local percenters may rich think new york time',\n",
              " 'dr david duke mark collett uk collett explain duke trump victory would change politics forever',\n",
              " 'statement senate well fargo chief deeply sorry new york time',\n",
              " 'cnn statement distance network buzzfeed fake news dossier breitbart',\n",
              " 'c e ponder new game trump rule new york time',\n",
              " 'spicer brady steal jersey another bad press breitbart',\n",
              " 'scaredy cat investigation people enjoy fear new york time',\n",
              " 'left vision',\n",
              " 'showdown loom u question chinese deal german chip designer new york time',\n",
              " 'trump administration take hard tack trade china new york time',\n",
              " 'pew american trust level federal government plummet historic low breitbart',\n",
              " 'islamic state support former national guardsman plead guilty terrorism charge virginia',\n",
              " 'spicer reporter go raise hand like big boy girl breitbart',\n",
              " 'leader applaud gorsuch confirmation win pro life movement',\n",
              " 'newsticker',\n",
              " 'french vogue march cover feature transgender model new york time',\n",
              " 'trump veers party line gun control new york time',\n",
              " 'oligarchy prepare groundwork steal election',\n",
              " 'ya hay reencuentros de operaci n triunfo que ediciones de operaci n triunfo',\n",
              " 'chatsworth house tale five century new york time',\n",
              " 'uncomfortable love affair donald trump new england patriots new york time',\n",
              " 'john mccain withdraws support donald trump disclosure record new york time',\n",
              " 'strange unending limbo egypt hosni mubarak new york time',\n",
              " 'poverty rise u house district obama presidency',\n",
              " 'huma abedin seek fbi immunity deal',\n",
              " 'single mom escape friend zone one non date time new york time',\n",
              " 'boeing suit future spaceflight new spacesuit design breitbart',\n",
              " 'trump float olive branch might keep part health law new york time',\n",
              " 'wapo try compare elizabeth warren break senate rule milo shut violent riot breitbart',\n",
              " 'crumpled school bus leave chattanooga daze new york time',\n",
              " 'die come back life incredible message humanity',\n",
              " 'fight national african american museum new york time',\n",
              " 'father manchester suicide bomber arrest libya breitbart',\n",
              " 'secret true leader',\n",
              " 'muslim demand local walk dog public violation sharia disrespect',\n",
              " 'hillary campaign bed pac staff donate k fbi agent wife investigation',\n",
              " 'still try flip electoral college block trump win',\n",
              " 'al sharpton dems point appeal archie bunker trump voter breitbart',\n",
              " 'think many doom sayers trump get office',\n",
              " 'democrat jump session resignation band wagon breitbart',\n",
              " 'alt right architect glenn beck open fire alt right grave threat republic audio tweet',\n",
              " 'politicized justice protect hillary',\n",
              " 'north carolina saturate surprised reel hurricane matthew new york time',\n",
              " 'life love submit memory new york time',\n",
              " 'achieve mindfulness work meditation cushion require new york time',\n",
              " 'world first zero emission hydrogen power passenger train unveil germany',\n",
              " 'confuse chip credit card get line new york time',\n",
              " 'brook trump side foreign leader u president israel russia breitbart',\n",
              " 'toxic air home get rid naturally',\n",
              " 'connecticut reader report record voter registration inspire trump',\n",
              " 'germany reacts merkel trump visit could lot bad new york time',\n",
              " 'justin rise outduels henrik stenson golf gold medal new york time',\n",
              " 'iceland water cure new york time',\n",
              " 'shortens l train shutdown month new york time',\n",
              " 'time presidency decide new york time',\n",
              " 'u n relief official call crisis aleppo apex horror new york time',\n",
              " 'berkeley treat violent anti speech leave like kkk',\n",
              " 'statistical propaganda many syrian u regime change kill',\n",
              " 'self help guru james altucher own thing new york time',\n",
              " 'trump religious liberty order give session major leeway breitbart',\n",
              " 'demoledor amparo contra salgado keiko congresistas',\n",
              " 'era trump china president champion economic globalization new york time',\n",
              " 'sad saga john walker lindh rebel without clue',\n",
              " 'court disagree michigan vote recount new york time',\n",
              " 'bernie sander feud democratic leadership heat new york time',\n",
              " 'short powerful explanation trump victory ever see',\n",
              " 'russia look populate far east wimp need apply new york time',\n",
              " 'johnson amendment trump vow destroy explain new york time',\n",
              " 'donald trump march life full support',\n",
              " 'police official find dead long island suicide suspect new york time',\n",
              " 'radical change store world global market ready',\n",
              " 'like make showbiz best friend new york time',\n",
              " 'trump nominates neil gorsuch supreme court new york time',\n",
              " 'bidder cast doubt seriousness mexican border wall project',\n",
              " 'stake u election',\n",
              " 'israel approve additional funding settlement west bank new york time',\n",
              " 'tx gov abbott sign legislation could put sheriff sanctuary city jail breitbart',\n",
              " 'donald trump hold thank rally cincinnati announce pick defense secretary new york time',\n",
              " 'lawmaker look bipartisanship health care new york time',\n",
              " 'inside conservative push state amend constitution new york time',\n",
              " 'donald trump tell n r hillary clinton want let violent criminal go free new york time',\n",
              " 'pope francis trump japan tuesday brief new york time',\n",
              " 'mayorsstand day tout support illegal immigrant',\n",
              " 'trump campaign celebrity',\n",
              " 'democrat drag jeff session confirmation fight breitbart',\n",
              " 'break news podesta brother pedo ring mr trump drain swamp v guerrilla economist',\n",
              " 'la frases destacadas del debate de investidura',\n",
              " 'confuse jihad hirabah build peaceful world',\n",
              " 'lazy liberal journalist smear bannon',\n",
              " 'australia close detention center manus island still accept asylum seeker new york time',\n",
              " 'politico hillary clinton run breitbart',\n",
              " 'giant lynx make adorable sound whenever human rub face',\n",
              " 'minnesota cop find guilty philando castile shoot trial',\n",
              " 'million american kill minute',\n",
              " 'wayne madsen cia always serve interest wall street',\n",
              " 'november daily contrarian read',\n",
              " 'flashback report obama campaign rep talk iran hamas',\n",
              " 'lesseroftwoevilism',\n",
              " 'aya cash first time eat vegetable new york time',\n",
              " 'trump adviser say israeli settlement illegal',\n",
              " 'serena williams prevails opener problem new york time',\n",
              " 'soul man sam moore honor perform trump inauguration',\n",
              " 'ferrell come back bush destroy trump video',\n",
              " 'chinese government concern tough talk trump cabinet breitbart',\n",
              " 'billionaire report seized hong kong hotel take china new york time',\n",
              " 'easy know link',\n",
              " 'homebody find ultimate home office new york time',\n",
              " 'ann coulter unloads paul ryan deeply unpopular obamacare bill breitbart',\n",
              " 'transgender bathroom debate turn personal vermont high school new york time',\n",
              " 'obama hillary want libya gaddafi topple kill',\n",
              " 'alert former soros associate warn pro wrong gold silver skyrocket like',\n",
              " 'hillary panicking fbi weiner email',\n",
              " 'chaotic minute trump defend fine tune machine new york time',\n",
              " 'one police shift patrol anxious america new york time',\n",
              " 'fight ghost fascist aid real one',\n",
              " 'monday even brief brexit abortion game throne new york time',\n",
              " 'eu increase brexit bill demand billion billion',\n",
              " 'arianna huffington sleep revolution start home new york time',\n",
              " 'iranian missile accidentally destroy iranian ship aim syria',\n",
              " 'sonoma county california vote create large gmo free zone america',\n",
              " 'fbi comey wikileaks intelligence porn journalism breitbart',\n",
              " 'clare waight keller name first female designer givenchy new york time',\n",
              " 'reality face black canadian national shame',\n",
              " 'top nfl draft prospect caleb brantley charge punch woman face breitbart',\n",
              " 'video pacific crest trail association lavoy finicim murder',\n",
              " 'life lesson man see death',\n",
              " 'trump g p work win repeal obama health act new york time',\n",
              " 'atlantic goldberg confident trump handle matter life death breitbart',\n",
              " 'orthodox rabbi support trump',\n",
              " 'nuclear tension u russia reach dangerous point',\n",
              " 'gambia join south africa burundi exodus international criminal court',\n",
              " 'peyton man golf president trump sunday',\n",
              " 'obama urge donald trump send signal unity minority group woman new york time',\n",
              " 'like miracle woman give birth use ovary frozen since childhood new york time',\n",
              " 'uconn recipe success run run run new york time',\n",
              " 'assange finally afford opportunity give statement rape accusation',\n",
              " 'hillary puppet show much hillary care god omission word',\n",
              " 'stock market go high problem new york time',\n",
              " 'john kerry reject suggestion u involvement turkey coup new york time',\n",
              " 'trump aide stephen miller u absolute sovereign right determine enter country breitbart',\n",
              " 'year old russian girl speaks languages',\n",
              " 'powerful corporate lobby quietly back hillary nobody talk',\n",
              " 'maintain sunny spirit face hardship new york time',\n",
              " 'rush limbaugh comey fire epic troll trump dems breitbart',\n",
              " 'twitter sue government block unmasking account critical trump new york time',\n",
              " 'warrior resilient home cruise cavalier new york time',\n",
              " 'comey letter clinton email subject justice dept inquiry new york time',\n",
              " 'spain malta u uk pressure refuse allow russian carrier group refuel port',\n",
              " 'review radiohead moon shape pool patient perfectionism new york time',\n",
              " 'man militarize police stand rock work',\n",
              " 'woman arrest property land steal dapl',\n",
              " 'pulitzer prize new york time win daily news propublica share public service award new york time',\n",
              " 'vanquish witness takeover bush clinton attend donald trump inauguration breitbart',\n",
              " 'speculation possible obama pardon edward snowden bowe bergdahl chelsea man breitbart',\n",
              " 'cheesy mash potato soul new york time',\n",
              " 'unprincipled wapo editor damn comey critic join',\n",
              " 'nation wreck immigration civil war brew gooding swede turn muslim migrant violence rape murder',\n",
              " 'man shoot dead officer crucifix gun police say new york time',\n",
              " 'exclusive rep jim jordan trump first day think great start breitbart',\n",
              " 'haley attack syria one president fine hour breitbart',\n",
              " 'justin bieber defecates adore irish fan hotel window',\n",
              " 'cancer agency fire withhold carcinogenic glyphosate document',\n",
              " 'gianno caldwell claim hillary care black vote black life',\n",
              " 'isi use ramadan call new terrorist attack new york time',\n",
              " 'daily show mock mahatma blondie megyn kelly nbc debut',\n",
              " 'health care bill failure part art deal breitbart',\n",
              " 'lewandowski comey liar look sign major book deal breitbart',\n",
              " 'kimberly guilfoyle discus potential white house press secretary job interview',\n",
              " 'clinton campaign chairman john podesta invite occult spirit cook dinner marina abramovi',\n",
              " 'obama coalition crumble leave opening trump new york time',\n",
              " 'pregnancy change brain way may help mother new york time',\n",
              " 'fema open loan window red cross try shut shelter',\n",
              " 'gaiaportal interwebs gaia energetics strengthen',\n",
              " 'scarborough trump poops pant call modern art breitbart',\n",
              " 'cook invest time work new york time',\n",
              " 'bad news jackson family woman leak star sick k sex secret',\n",
              " 'gorsuch london republican party thursday evening brief new york time',\n",
              " 'emma morano last person bear dy breitbart',\n",
              " 'loserpalooza crazy scene anti trump protest breitbart',\n",
              " 'trump victory mean africa',\n",
              " 'vision life mar earth depths new york time',\n",
              " 'obama cancel talk rodrigo duterte philippine say regret slur new york time',\n",
              " 'new jersey increase gas tax end long political stalemate new york time',\n",
              " 'abc manchester attack likely inflame anti islamic sentiment breitbart',\n",
              " 'hidden plain sight global depopulation agenda',\n",
              " 'job american new york time',\n",
              " 'sander ask obama intervene dakota access pipeline dispute',\n",
              " 'google add job section search engine include employer rating breitbart',\n",
              " 'cry jordan meme die new york time',\n",
              " 'dem rep nchez trump use fear muslim immigrant promote policy undermine value breitbart',\n",
              " 'announcement saker community german saker blog vineyard saker',\n",
              " 'shoot victim family watch gun measure stall new york time',\n",
              " 'image reveal crash schiaparelli mar lander',\n",
              " 'grassroots coalition share many question concern betsy devos senator',\n",
              " 'october daily contrarian read',\n",
              " 'trump inaugural ball work begin play game breitbart',\n",
              " 'trump choice stephen bannon nod anti washington base new york time',\n",
              " 'medium outrage white house exclusion fake news breitbart',\n",
              " 'benny morris untenable denial ethnic cleansing palestine',\n",
              " 'obama hillary clinton pardon could heal divide nation',\n",
              " 'exceptional handling',\n",
              " 'nota conceptual para la presidencia de rusia',\n",
              " 'response philippine president fatal blast raise fear new york time',\n",
              " 'david adjaye design museum speak different language new york time',\n",
              " 'bulletin righteous jew trump rule ruin gop establishment etc item',\n",
              " 'britain reduces terror level one notch severe terror cell arrest',\n",
              " 'mute alone never short kind word friends new york time',\n",
              " 'iranian military commander claim rogue nation send elite fighter infiltrate u europe',\n",
              " 'account',\n",
              " 'watch muslim student claim non believer kill islamic country breitbart',\n",
              " 'yemen yet another false flag protect saudi u interest middle east new eastern outlook',\n",
              " 'watch muslim palestinian declare follow prophet muhammad kill christian jew',\n",
              " 'street dog kerala call upon superdog krypto rescue human',\n",
              " 'israel track anti government journalist facebook',\n",
              " 'new alaska law take first step common core',\n",
              " 'key baylor football executive demarko butler fire texting scandal breitbart',\n",
              " 'calgary airport arrival yyc',\n",
              " 'george michael wrestle fame frank sinatra advice new york time',\n",
              " 'sharon old laureate sexuality scrutinize body odes new york time',\n",
              " 'blue collar election shock liberal medium',\n",
              " 'die new york time',\n",
              " 'police fire rubber bullet pipeline protester',\n",
              " 'ann coulter hit suppose gay icon kathy griffin isi crib antic',\n",
              " 'contaminate food china enter u organic label',\n",
              " 'ten famous people read summer new york time',\n",
              " 'hillary clinton knew year ago anthony weiner pedophile wikileaks',\n",
              " 'million stairway nowhere far west side new york time',\n",
              " 'cyber war trifle catastrophe information',\n",
              " 'president putin ask u stop provoking russia',\n",
              " 'inquiry cloud de blasio bid come strong manager race new york time',\n",
              " 'u drone strike afghanistan kill wound several civilian',\n",
              " 'bobby hutcherson vibraphonist coloristic range sound dy new york time',\n",
              " 'amnesty advocate boycott agency meeting pro american advocate invite breitbart',\n",
              " 'project veritas robert creamer illegal foreign wire transfer caught tape',\n",
              " 'ex flotus michelle obama trump want fee crap kid',\n",
              " 'south sudan slide closer war gunfire rumble capital new york time',\n",
              " 'national mood focus group reflect angry divide america',\n",
              " 'bankrupt puerto rico voting u statehood breitbart',\n",
              " 'overwhelm brexit basic new york time',\n",
              " 'seattle gay mayor accuse sexually molest teen breitbart',\n",
              " 'gender fluidity runway new york time',\n",
              " 'u nato attack putin military drill russia world war red alert kopya',\n",
              " 'new clinton email come underage sex pest anthony weiner',\n",
              " 'montana bear attack lesson hope survival first aid new york time',\n",
              " 'best america new york time',\n",
              " 'pecan step pie plate new york time',\n",
              " 'barack obama plagiarize tell word matter breitbart',\n",
              " 'low back ache active wait new guideline say new york time',\n",
              " 'sleep hour people die new york time',\n",
              " 'veep season episode little dance new york time',\n",
              " 'dr oz trump offer placebo transparency new york time',\n",
              " 'comment gold medalist wrestler get violent police cop choose engage deadly force buck rogers',\n",
              " 'one year water orange county four day breitbart',\n",
              " 'doctor enemy afghan force target f hospital new york time',\n",
              " 'year old hebrew mention jerusalem find',\n",
              " 'spirit cook disturbing podesta email yet warn graphic content',\n",
              " 'donald trump misstep risk put ceiling support swing state new york time',\n",
              " 'green party margaret flower challenge u senate debate maryland undemocratic',\n",
              " 'officer rescue drown deer pool quick thinking',\n",
              " 'police suspect punch army veteran steal service dog outside home bronx breitbart',\n",
              " 'yikes megyn kelly receive rude awaken remind replaceable',\n",
              " 'iran send elite irgc warfighters europe united state preparation battle',\n",
              " 'hillary endorse donald trump president accord wikileaks',\n",
              " 'woodward trump dossier garbage document intelligence chief apologize trump breitbart',\n",
              " 'emmy nomination tracy morgan emotional return saturday night live new york time',\n",
              " 'trump pick mick mulvaney south carolina congressman budget director new york time',\n",
              " 'donald trump el primer presidente naranja de los estados unidos',\n",
              " 'attorney general loretta lynch plead fifth',\n",
              " 'russia u missile defense pose deep risk security asia',\n",
              " 'washington plan b syria really mean',\n",
              " 'upset brexit british jew look germany new york time',\n",
              " 'girl ask boyfriend give iphone use money buy house',\n",
              " 'amnesty international slam obama gov kill civilian syria',\n",
              " 'find flock rural writer book club new york time',\n",
              " 'venezuela crisis enters dangerous phase maduro foe go militant',\n",
              " 'emigre super bloc part viii quasi legal coup hillary clinton information operation election',\n",
              " 'could question ask loved one vote way new york time',\n",
              " 'bbc ask really happen clinton haiti',\n",
              " 'trump pick thomas bossert top counterterrorism adviser new york time',\n",
              " 'come unglued',\n",
              " 'trump jr suspiciously help arizona woman push stall car use photo op video',\n",
              " 'suicide chicago police officer skyrocket',\n",
              " 'think suv safe shock video',\n",
              " 'people torture kill sufi muslim shrine pakistan',\n",
              " 'comment architecture clever arrangement brick man transform healing process architecture clever arrangement brick man transform heal process new earth medium',\n",
              " 'hybrid war strategy africa introduction',\n",
              " 'julian assange speak prerecorded rt interview',\n",
              " 'watch israel love hollywood actor issue major plea america minute rock election',\n",
              " 'n l donald trump botch independence day moment new york time',\n",
              " 'exclusive congresswoman marsha blackburn say eliminate net neutrality preserve open internet breitbart',\n",
              " 'attach year round greenhouse home',\n",
              " 'sheriff clarke obama final day obama like tenant evict property gon na trash place way door video',\n",
              " 'weird ban woman iran',\n",
              " 'end game close clinton deep state turn',\n",
              " 'trump fighting chance establishment new eastern outlook',\n",
              " 'trade stance toward china clinton trump signal chill new york time',\n",
              " 'review secret life pet amuses miss opportunities new york time',\n",
              " 'first case demonetisation relate hiv man unprotected sex atm machine',\n",
              " 'thing need know dakota access pipeline protest',\n",
              " 'koch brother battle prevent dark money disclosure south dakota',\n",
              " 'milo berkeley event evacuate masked protester light fire storm venue breitbart',\n",
              " 'authoritarianism west demonize strong popular leader',\n",
              " 'swedish journo sweden collapse without illegal migrant',\n",
              " 'promising internet career vine dead write newsbiscuit cheer',\n",
              " 'iowa trump voter unfazed controversy new york time',\n",
              " 'radical american grown marxist terror group make announcement january th conservative daily post',\n",
              " 'guardian opinion writer trump bannon count terrorist massacre',\n",
              " 'putin pro trump online troll spill bean samantha bee',\n",
              " 'along mosul front line desperate civilian dug troop fighter new york time',\n",
              " 'second avenue subway open train delay end happy tear new york time',\n",
              " 'year old cher don see top nipple pasty billboard award',\n",
              " 'report stop nine percent illegal alien border crossers would pay trump border wall breitbart',\n",
              " 'ice union issue final warning voter',\n",
              " 'elite new york police unit rehearse terrorist attack new york time',\n",
              " 'trump hollywood star vandal out shameless new video taunt police seek',\n",
              " 'california today view san francisco lean tower space new york time',\n",
              " 'matthew trump speech putin say america first hitlerian background breitbart',\n",
              " 'vladimir putin valdai international discussion club shape world tomorrow vladimir putin',\n",
              " 'chinese social medium rag united airline controversy breitbart',\n",
              " 'america well without border',\n",
              " 'chaos terror tie make venezuela direct threat usa former un security council president say breitbart',\n",
              " 'rick ross documentary video double ad checker new york time',\n",
              " 'oil spill pacific ocean since last month totally ignore',\n",
              " 'podesta mill go dump email',\n",
              " 'thoughtlessly disbelieve conspiracy theory need read',\n",
              " 'dr david duke dr slattery expose hillary treason trump duke win',\n",
              " 'russian frigate syrian cost blast terrorist hq cruise missile video',\n",
              " 'hillary clinton like covert action stay covert transcript show new york time',\n",
              " 'u kurdish troop involve invade isis capital raqqa',\n",
              " 'awaken humanity awaits fully script end controversial election day nears',\n",
              " 'george soros back climate march bring celebs national mall swelter saturday breitbart',\n",
              " 'edward snowden long strange journey hollywood new york time',\n",
              " 'black trump man belong murderous cult',\n",
              " 'bill clinton lover call ruthless hillary warden',\n",
              " 'russia cina e arabia saudita domano l egemonia del dollaro di ariel noyola rodr guez',\n",
              " 'third month india cash shortage begin bite new york time',\n",
              " 'one trump administration position gain popularity go shock breitbart',\n",
              " 'bill clinton say white middle class life expectancy decline obama year',\n",
              " 'furious eric holder issue dire warning comey partisan smear',\n",
              " 'memo trump action day',\n",
              " 'chaos desperation thousand flee aleppo amid government advance new york time',\n",
              " 'wildfire empty fort mcmurray alberta oil sand region new york time',\n",
              " 'schumer session investigate seem violate recusal breitbart',\n",
              " 'amid division march washington seek bring woman together new york time',\n",
              " 'zoe saldana trump hollywood get cocky become arrogant bully',\n",
              " 'anti establishment trump plan appoint goldman sachs george soros insider',\n",
              " 'cholesterol drug men gonad',\n",
              " 'trump flynn treat unfair fake medium illegal leak breitbart',\n",
              " 'california today virtual reality investigate trayvon martin case new york time',\n",
              " 'nearly decade later apology lynching georgia new york time',\n",
              " 'marcia clark finally moment savor emmy new york time',\n",
              " 'brexit speech theresa may outline clean break u k new york time',\n",
              " 'man hat black men find victim care others new york time',\n",
              " 'michael flynn fail disclose income russia link entities new york time',\n",
              " 'federal judge throw convict c sniper four life sentence',\n",
              " 'donald trump obama thanksgiving weekend brief new york time',\n",
              " '',\n",
              " 'vine celebrate life death app clip',\n",
              " 'squatty potty ceo griffin image divisive disturb decision really',\n",
              " 'thing let go new year',\n",
              " 'comment police union post pic hillary arrest facebook dan',\n",
              " 'koch brother secretly ally w george soros hillary clinton',\n",
              " 'trump expand search secretary state new york time',\n",
              " 'teacher yr old wait trump elect go deport muslims',\n",
              " 'cost choice top concern health insurance customer new york time',\n",
              " 'shaq announces plan run sheriff breitbart',\n",
              " 'illegal immigrant cross border vote',\n",
              " 'pirate fail take helm iceland pirate party gain mileage enough steady ship alone',\n",
              " 'billionaire build davos new york time',\n",
              " 'run danger alaskan trail new york time',\n",
              " 'la pel cula de su vida descubre que ha llevado siempre un trozo de lechuga entre los dientes',\n",
              " 'dems win congressional baseball game give trophy republican steve scalise breitbart',\n",
              " 'france present strict gun control paper tiger breitbart',\n",
              " 'china russia silk road commodity nixon massive bull market gold silver',\n",
              " 'troubled quarterback johnny manziel appear shop mall sign autographs next super bowl breitbart',\n",
              " 'bob dylan accuse lift part nobel prize speech sparknotes',\n",
              " 'blimp crash e coli contamination snakebitten u open witness spectator death breitbart',\n",
              " 'public employee shadow world american carnage',\n",
              " 'espn lz granderson justify think kaepernick blackball nobody sign breitbart',\n",
              " 'prescription painkiller death drop state legalize marijuana',\n",
              " 'low growth world get new york time',\n",
              " 'istanbul donald trump benjamin netanyahu morning brief new york time',\n",
              " 'hitler hillary',\n",
              " 'dalian wanda hollywood event production new york time',\n",
              " 'comment pm water cooler timmy',\n",
              " 'breakdown clinton money machine',\n",
              " 'california forefront climate fight back trump new york time',\n",
              " 'g e year old software start new york time',\n",
              " 'hillary clinton hamilton would enough new york time',\n",
              " 'brain concussion child adult know vaccine damage',\n",
              " 'trump great paul craig robert',\n",
              " 'hillary frantic dirty secret implodes get bad prison bombshell',\n",
              " 'rent car know rule road new york time',\n",
              " 'impeachment political brazil something sinister new york time',\n",
              " 'trump interview moderate view defies conventions new york time',\n",
              " 'review sweetbitter bright light big city restaurant set new york time',\n",
              " 'gonzaga beat south carolina final four shot another first new york time',\n",
              " 'gorka trump interventionist commander chief nothing change breitbart',\n",
              " 'thank fbi clinton email investigation shift poll number significantly trump favor',\n",
              " 'race class dictate republican future',\n",
              " 'gorsuch scalia lion law judge look law demand prefer breitbart',\n",
              " 'nc state provide student post election comfort food therapy',\n",
              " 'iraqi troop push mosul kill across iraq',\n",
              " 'pregnant woman turn marijuana perhaps harm infant new york time',\n",
              " 'big winner loser u presidential election',\n",
              " 'trump psychic listen word one year ago look happen',\n",
              " 'mccain trump attack press dictator get start breitbart',\n",
              " 'judgment day one reason every christian jew america vote donald trump',\n",
              " 'coup stolen election',\n",
              " '',\n",
              " 'thing need know black dakota access pipeline protest',\n",
              " 'germany iraqi asylum seeker convict rap chinese student',\n",
              " 'teenage boy knock classmate assault female teacher face epic',\n",
              " 'take bring hillary clinton justice',\n",
              " 'ice round criminal alien texas capital',\n",
              " 'election hate grief new story',\n",
              " 'hillary question michelle obama help',\n",
              " 'keith vaz british lawmaker quit senior post amid sex drug scandal new york time',\n",
              " 'comment sunday devotional whole universe grain sunday devotional whole universe grain fellowship mind kommonsentsjane',\n",
              " 'donald trump syria emperor akihito morning brief new york time',\n",
              " 'hell freeze michelle obama make hillary destroying move twitter',\n",
              " 'flynn critic call nuclear scientist miss usa dumb diss feminism call health care privilege breitbart',\n",
              " 'hampshire college student accuse assault basketball player wear hair braid claim cultural appropriation breitbart',\n",
              " 'obamamometer toxic legacy rule lawlessness',\n",
              " 'simone manuel gold ripple beyond pool new york time',\n",
              " 'voting machine program order steal election',\n",
              " 'redrawing tree life scientist discover new bacteria group stun microbial diversity underground',\n",
              " 'trump putin destroy isi',\n",
              " 'photo game camera catch glimpse possible antlered buck',\n",
              " 'turkey relation europe sink amid quarrel netherlands new york time',\n",
              " 'wikileaks document reveal united nation interest ufos video',\n",
              " 'blue state blue deliberate politicization intimacy',\n",
              " 'clare hollingworth reporter break news world war ii die new york time',\n",
              " 'north miami police officer shoot man aid patient autism new york time',\n",
              " 'path total dictatorship america shadow government silent coup',\n",
              " 'effort curb police abuse mix record uncertain future new york time',\n",
              " 'signal major bottom gold silver',\n",
              " 'hey ho old england embrace punk rock year later new york time',\n",
              " 'canoe reek genocide theft white privilege say canadian professor',\n",
              " 'illegal immigrant advocate pledge resist deportation trump',\n",
              " 'cdc scientist confirm donald trump right vaccine autism',\n",
              " 'breitbart news daily drain swamp breitbart',\n",
              " 'trump medium frankenstein monster',\n",
              " 'watch tony romo say goodbye dallas cowboy instagram video breitbart',\n",
              " 'globalism far right conspiracy theory buoy trump new york time',\n",
              " 'georgia father convict murder toddler death hot car new york time',\n",
              " 'richard bolles dy write color parachute new york time',\n",
              " 'stranahan steve bannon nail medium fight trump breitbart',\n",
              " 'texas elector expect massive corruption relate electoral college vote',\n",
              " 'guilty power nullification counteract government tyranny',\n",
              " 'trillion new debt day',\n",
              " 'tory councillor say homeless people eliminate',\n",
              " 'review hillbilly elegy tough love analysis poor back trump new york time',\n",
              " 'criminal chief',\n",
              " 'government lie movie',\n",
              " 'trump brexit defeat globalism anyway',\n",
              " 'face congress sport official begin confront sexual abuse new york time',\n",
              " 'airbnb end fight new york city fine new york time',\n",
              " 'big pharma martin shkreli suspend twitter breitbart',\n",
              " 'next big tech corridor seattle vancouver planner hope new york time',\n",
              " 'evidence robot win race american job new york time',\n",
              " 'see africa road new york time',\n",
              " 'happen hip hop hillary go dead break brace',\n",
              " 'bill maher high trump state free speech new era new york time',\n",
              " 'l p g tour donald trump complicate new york time',\n",
              " 'legend art cashin trump presidency new world order gold brexit great depression see panic',\n",
              " 'fl sheriff day go arrest lot illegal alien prey people breitbart',\n",
              " 'donald trump threaten cancel berkeley federal fund riot shut milo event',\n",
              " '',\n",
              " 'bill herz last war world broadcast crew dy new york time',\n",
              " 'gary johnson equate syria death cause assad west new york time',\n",
              " 'republican senator bill defund un anti israel resolution',\n",
              " 'rise evansky pioneer woman hairstyling dy new york time',\n",
              " 'blackstone saudi arabia announce billion investment u infrastructure breitbart',\n",
              " 'saturate fat heart disease great scam history medicine',\n",
              " 'dem sen merkley gorsuch nomination court pack scheme turn nomination breitbart',\n",
              " 'four common mistake burn wood',\n",
              " 'push internet privacy rule move statehouses new york time',\n",
              " 'madonna give surprise pop concert support clinton new york time',\n",
              " 'trump supporter plan anti trump rally lack tax reform',\n",
              " 'british healthcare offer glimpse future obamacare',\n",
              " 'trump iranian president rouhani good careful breitbart',\n",
              " 'break sec defense carter attempt fool american public veteran catch red hand',\n",
              " 'putin adviser take credit trump victory maybe help bit wikileaks',\n",
              " 'warren buffett stake suggests apple grow new york time',\n",
              " 'fbi clinton email investigation shift poll number significantly trump favor',\n",
              " 'hillary horrify pic surface overnight want',\n",
              " 'paul lepage governor maine say quit new york time',\n",
              " 'colorado radio station paul martin interview dave hodges election fraud standing rock',\n",
              " 'bill clinton want call something completely ridiculous hillary elect',\n",
              " 'son death sally mann stage haunting show new york time',\n",
              " 'trump team link russia crisscross washington new york time',\n",
              " 'north korean arrest kill kim jong un half brother new york time',\n",
              " 'surgeon admit mammography outdated harmful woman',\n",
              " 'war street paris arm migrant fight run battle french capital',\n",
              " 'oscar voter meryl streep nominate anti trump speech',\n",
              " 'texas enact anti sharia law',\n",
              " 'chicago police board chair windy city need federal help turn tide crime breitbart',\n",
              " 'look beyond november th song oligarchy doom',\n",
              " 'neil young celebrate st birthday perform stand rock',\n",
              " 'exclusive amid paul ryan obamacare push mississippi chris mcdaniel prep potential senate run breitbart',\n",
              " 'boom short list people inspiring michelle obama',\n",
              " 'artist go boycott grammys face fallout fraught award new york time',\n",
              " 'video idiot destroy trump hollywood star get bad news second later',\n",
              " 'elite want global economy collapse',\n",
              " 'best health benefit sweat',\n",
              " 'senate confirms scott pruitt e p head new york time',\n",
              " 'cricket snake crab mix fact fraud new york subway new york time',\n",
              " 'session potential deputy face stern test russia inquiry new york time',\n",
              " 'suicide squad top box office second weekend new york time',\n",
              " 'health insurer plan rate hike obamacare exchange breitbart',\n",
              " 'look like someone think democrat ohio full manure',\n",
              " 'syrian war report november govt force relaunch offensive operation inside outside aleppo',\n",
              " 'mystery solve get hillary clinton get movin twitchy com',\n",
              " 'senate narrowly pass rollback obama era auto r rule new york time',\n",
              " 'cramped costly bay area cry build baby build new york time',\n",
              " 'champion optimism obama hail clinton political heir new york time',\n",
              " 'fiona apple release trump protest chant new york time',\n",
              " 'susan rice u must integrate lgbt right gov foreign policy',\n",
              " 'trump organization move avoid possible conflict interest new york time',\n",
              " 'sweden brink police force push break point violence amid migrant influx',\n",
              " 'comment hemp v cotton ultimate showdown hemp readdressing cannabis kuebiko co',\n",
              " 'jared kushner trump son law clear serve adviser new york time',\n",
              " 'fisherman face life prison catch worth cocaine sell breitbart',\n",
              " 'step ring roll punch new york time',\n",
              " 'adnan syed serial podcast get retrial murder case new york time',\n",
              " 'scientist say weird signal space probably alien',\n",
              " 'u swimmer dispute robbery claim fuel tension brazil new york time',\n",
              " 'way take self care vacation new york time',\n",
              " 'economist sign letter urge america vote donald trump',\n",
              " 'campaign long expensive chaotic maybe good thing new york time',\n",
              " 'alien megastructure star target million seti search',\n",
              " 'brazen killing myanmar lawyer come spar military new york time',\n",
              " 'jane pauley back new york time',\n",
              " 'deutsche bank consider alternative pay cash bonus',\n",
              " 'danny dyer football foul ups dvd second',\n",
              " 'lack oxford comma could cost maine company million overtime dispute new york time',\n",
              " 'european parliament committee consider legal right robot breitbart',\n",
              " 'rex tillerson aggressive dealmaker whose tie russia may prompt scrutiny new york time',\n",
              " 'fbi conduct new investigation email clinton private illegal server',\n",
              " 'heart mine u empire culture industry',\n",
              " 'report megyn trash trump newt murdoch announces replacement available',\n",
              " 'russian scientist track sea lion space',\n",
              " 'seize definition populism reuters warn u chaos come',\n",
              " 'seaworthy ready early unveil new york time',\n",
              " 'donald trump add k mcfarland national security team new york time',\n",
              " 'snowstorm bring wintry mix slush grip new york time',\n",
              " 'republican wilder tillerson thursday evening brief new york time',\n",
              " 'review bryan cranston shine lyndon johnson way new york time',\n",
              " 'samsung urge consumer stop use galaxy note battery fire new york time',\n",
              " 'election result discussion presidential election open thread',\n",
              " 'ag lynch tell fbi director comey go public new clinton email investigation',\n",
              " 'donald trump rise white identity politics',\n",
              " 'red blue divide six view america new york time',\n",
              " 'france identifies nd man attack church kill priest new york time',\n",
              " 'dreamer arrest nationwide gang crackdown',\n",
              " 'maxine water american public get weary trump impeach yet breitbart',\n",
              " 'wwn horoscope',\n",
              " 'deport italian mobster catch sneak across u mexico border',\n",
              " 'leak audio hillary clinton push rig palestine election',\n",
              " 'iranian saudi proxy struggle tore apart middle east new york time',\n",
              " 'lavrov kerry discuss syrian settlement',\n",
              " 'l influence de usa et de l otan dans le rapport de l ue avec la chine manlio dinucci',\n",
              " 'open border group gird h b fight',\n",
              " 'weinergate expose darker dirty secret imagine',\n",
              " 'trump election break chain political correctness',\n",
              " 'whitehouse gov take climate page put america first energy plan breitbart',\n",
              " 'iran warn president elect trump mess sweetheart nuclear deal obama',\n",
              " 'tony perkins trump eo affirms jefferson doctrine separation church state',\n",
              " 'moon fell heaven',\n",
              " 'mom star launch campaign plan parenthood',\n",
              " 'assad lesson aleppo force work consequence new york time',\n",
              " 'penny bossert bannon demote continue play important policy role breitbart',\n",
              " 'bundy ranch occupier acquit count challenge corrupt bureau land management',\n",
              " 'report google face fine billion eu antitrust case breitbart',\n",
              " 'ask thom yorke write cover quote book',\n",
              " 'internet flasher',\n",
              " 'gretchen carlson suit aim retaliation discrimination new york time',\n",
              " 'google launch ai program detect hate speech breitbart',\n",
              " 'poll show hillary lead useless misleading cartoon',\n",
              " 'last second lane merger good traffic new york time',\n",
              " 'macau skip casino embrace past new york time',\n",
              " 'montreal ungainly unloved christmas tree new york time',\n",
              " 'photo jupiter nasa spacecraft near far new york time',\n",
              " 'trump labor pick andrew puzder critic minimum wage increase new york time',\n",
              " 'nico rosberg take formula one driver title despite lewis hamilton win abu dhabi new york time',\n",
              " 'sensory isolation tank teach brain new york time',\n",
              " 'chelsea handler botch tweet attack trump grandchild',\n",
              " 'report trump move tax reform plan without speaker paul ryan breitbart',\n",
              " 'ag jeff session unveils program accelerate deportation imprisoned illegals breitbart',\n",
              " 'former u attorney dc new hillary email probe result revolt inside fbi',\n",
              " 'keep appearance ruin former dallas banker new york time',\n",
              " 'sesame seed knee osteoarthritis',\n",
              " 'white cop interact black real life',\n",
              " 'pennsylvania republican push ban private gun sale breitbart',\n",
              " 'review warcraft orcs different domain fight heart new york time',\n",
              " 'good people share bad info need fact check click share',\n",
              " 'charitable wedding registries new york time',\n",
              " 'nypd raid hillary property find ruin life usa newsflash',\n",
              " 'feinstein gorsuch originalist doctrine really troubling originalism would allow segregation breitbart',\n",
              " 'confrontation flare obama travel party reach china new york time',\n",
              " 'reason apply job trump administration',\n",
              " 'think silver market rig',\n",
              " 'hear agnes martin serenity john zorn frenzied music new york time',\n",
              " 'must see welcome family many hispanic american vote donald trump',\n",
              " 'iraqi force enter western mosul fierce battle isi new york time',\n",
              " 'european future putin migrant crisis video',\n",
              " 'roll stone defamation case magazine reporter order pay million new york time',\n",
              " 'hillary sick tired suffer weiner backup',\n",
              " 'taiwan italy joe mcknight friday evening brief new york time',\n",
              " 'shiite militia say close tal afar turkey warn limit',\n",
              " 'brother clinton campaign chair active foreign agent saudi arabian payroll',\n",
              " 'must fight trump go conservative freedom caucus new york time',\n",
              " 'isi kidnaps kill least civilian afghanistan',\n",
              " 'hold hillary accountable',\n",
              " 'break ted cruz call special prosecutor investigate hillary truthfeed',\n",
              " 'spar gunman charleston churchgoer describe night terror new york time',\n",
              " 'war saturated fat harm people poor country shun traditional fat like coconut oil',\n",
              " 'democrat garland mind mobilize supreme court fight new york time',\n",
              " 'comment best kind milk dairy best kind milk dairy collective evolution apg editorial',\n",
              " 'harry reid blast comey misconduct drop bombshell fbi sit russian trump info',\n",
              " 'national review conservatism inc plan cave even immigration',\n",
              " 'watch thug call u marine pussy barely live tell tale',\n",
              " 'next u president psycho lesbian plus break news video',\n",
              " 'critic see effort county town purge minority voter roll new york time',\n",
              " 'even brief hillary clinton donald trump cultural revolution new york time',\n",
              " 'indiana parent lose baby year life jail abuse say never happen',\n",
              " 'rolling stone paint blue new album new york time',\n",
              " 'uber extend olive branch local government data new york time',\n",
              " 'wilder put dutch first brussels africa asylum seeker',\n",
              " 'donald trump good education enriches mind soul',\n",
              " 'watch brad pitt play afghanistan war general war machine teaser breitbart',\n",
              " 'two powerful earthquake strike central italy',\n",
              " 'indoor gardening make easy nutritower',\n",
              " 'elizabeth warren defines sleazy hypocrisy',\n",
              " 'rush limbaugh reilly departure natural campaign breitbart',\n",
              " 'museum trustee trump donor support group deny climate change new york time',\n",
              " 'cecile richards credit plan parenthood supporter stop ahca breitbart',\n",
              " 'switch chip know anymore',\n",
              " 'u concedes million payment iran delay prisoner leverage new york time',\n",
              " 'australia say foil terrorist plot new york time',\n",
              " 'oroville dam state federal government share blame',\n",
              " 'daily traditionalist jeff schoep nsm',\n",
              " 'michael moore joe blow vote trump ultimate f elite human molotov cocktail',\n",
              " 'jaguar owner shahid khan opposes trump immigration ban new york time',\n",
              " 'anti trump advert side bus really visually clever see motion',\n",
              " 'piano man many face stranger stories new york time',\n",
              " 'ticket release harry potter cursed child new york time',\n",
              " 'fbi visit man home film u postal distribution center',\n",
              " 'hispanic crowd boo marco rubio stage',\n",
              " 'fired tv reporter receive thousand sexual violent threat',\n",
              " 'detain illegal alien end day hunger strike',\n",
              " 'break silence officer testifies kill walter scott new york time',\n",
              " 'illegal immigrant allegedly kill park spot',\n",
              " 'president trump honor little sister poor first white house nat l day prayer year breitbart',\n",
              " 'hillary clinton supporter call recount vote battleground state',\n",
              " 'hbo scrap jon stewart animate comedy series',\n",
              " 'sentence murderer rare book dealer',\n",
              " 'late stock market invest book financial market',\n",
              " 'fashion industry ceo support plan parenthood civic responsibility',\n",
              " 'anti trump protest pay stag craigslist reveals',\n",
              " 'men exercise put damper sex life new york time',\n",
              " 'bake soda coconut oil kill cancer eye open evidence',\n",
              " 'trump cite evidence suggest susan rice commit crime new york time',\n",
              " 'breitbart news daily gorsuch scotus breitbart',\n",
              " 'hillary arrest',\n",
              " 'siri open smart lock let neighbor walk house',\n",
              " 'donald trump michael phelps zika tuesday evening brief new york time',\n",
              " 'obama furious feed deplorables drop piece gift',\n",
              " 'l mark year since rodney king riot breitbart',\n",
              " 'de facto u al qaeda alliance information',\n",
              " 'cory booker paul revere moment underway russian come breitbart',\n",
              " 'rapper troy ave shoot brooklyn new york time',\n",
              " 'seattle judge ignorant jihad conviction prior impose refugee reform ban breitbart',\n",
              " 'texas student skip school protest arrest violent criminal',\n",
              " 'trump aide try reassure europe many wary new york time',\n",
              " 'china trigger next global recession',\n",
              " 'bomb kill baghdad new york time',\n",
              " 'comment black racism martin wright',\n",
              " 'thank fbi clinton email investigation shift poll number significantly trump favor',\n",
              " 'u rescue attempt afghanistan miss western hostage hour new york time',\n",
              " 'rick rule look sprott asset management client money right',\n",
              " 'farm owner arrest protest dakota access pipeline theft land',\n",
              " 'trump poise lift ban c black site prison new york time',\n",
              " 'tesla musk investigate solarcity congress',\n",
              " 'ridiculously stupid thing men keep woman',\n",
              " 'press tv duff un condemnation moderate terrorist',\n",
              " 'nemesis scourge western world',\n",
              " 'trump budget new foundation american greatness breitbart',\n",
              " 'exclusive islamic state supporter vow terror group retake mosul liberator',\n",
              " 'roll thunder motorcyclist return c honor pow mia breitbart',\n",
              " 'interest fun fact stethoscope',\n",
              " 'china seek big role world stage xi jinping go davos world economic forum new york time',\n",
              " 'veteran prepare join stand rock protester stop dakota access pipeline',\n",
              " 'photo latin america condemns venezuela excessive use force protest breitbart',\n",
              " 'sugar fee cancer cell may even create',\n",
              " 'john kerry urge ground military aircraft key area syria new york time',\n",
              " 'outside money favor hillary clinton rate donald trump new york time',\n",
              " 'fake news new york time target breitbart report truth breitbart',\n",
              " 'blast new yorkers examine psychological shrapnel new york time',\n",
              " 'resistance schwarzenegger call grassroots revolution u exit paris agreement',\n",
              " 'virginia official request u inquiry inmate death jail new york time',\n",
              " 'report voter fraud crash course',\n",
              " 'associated press reporter admit fake news story hillary clinton',\n",
              " 'review garth brook brings rouse anthem ballad yankee stadium new york time',\n",
              " 'sicher trainieren beim spin gilt ab sofort helmpflicht',\n",
              " 'every asset class collapse need look wealth term many chicken much gas buy',\n",
              " 'review halt catch fire time travel silicon valley dawn new york time',\n",
              " 'obama use religious test favor muslim christian',\n",
              " 'wingsuit flyer v tree',\n",
              " 'turkey say airport bomber kyrgyzstan russia uzbekistan new york time',\n",
              " 'turmeric powerful artificial drug',\n",
              " 'facebook catch sell target advertisement exclude different race',\n",
              " 'gatlinburg resident return home wildfire destruction new york time',\n",
              " 'year old girl use human bomb nigeria attack',\n",
              " 'shock berkeley poll california voter want democrat work trump breitbart',\n",
              " 'family terror attack victim sue twitter provide resource service isis breitbart',\n",
              " 'philippine leader vow pardon police accuse mayor death new york time',\n",
              " 'fda find manipulate medium favor big pharma',\n",
              " 'jay h lehr beginning end epa',\n",
              " 'imahdi arrival satanism practice leader',\n",
              " 'ag session dem sen harris able rush fast make nervous breitbart',\n",
              " 'u n envoy say u still back palestinian state new york time',\n",
              " 'trump happen',\n",
              " 'japan vote strengthen shinzo abe goal change constitution new york time',\n",
              " 'trump camp caught cam bragging voter suppression woman black video',\n",
              " 'chelsea man asks obama cut sentence time serve new york time',\n",
              " 'red sox broadcaster jerry remy think foreign player use translator',\n",
              " 'shi ite militia join iraq mosul attack',\n",
              " 'escapism reign super bowl commercial politics prove inescapable new york time',\n",
              " 'naval brief november th ledahu',\n",
              " 'scandalous video footage anonymous expose huma hillary',\n",
              " 'jarring new level confrontation conflict hit washington new york time',\n",
              " 'clinton transmit classified info lawyer',\n",
              " 'hillary russian hacking guide american might trump breitbart',\n",
              " 'general election campaigning suspend wake manchester suicide bombing',\n",
              " 'grand slam father son film smash hit family',\n",
              " 'venezuela economic crisis mean left fail',\n",
              " 'herd stampede wild boar kill three islamic state jihadist breitbart',\n",
              " 'venus mar believe gender often wrong new york time',\n",
              " 'obama pardon list hotel magnate own studio new york time',\n",
              " 'suspect capture ambush style killing two iowa cop',\n",
              " 'megyn sic kelly gowdy triumphantly comment hillary case reopen',\n",
              " 'family friendly policy friendly male professor new york time',\n",
              " 'ringo starr anuncia que deja los beatles',\n",
              " 'war le imminent clinton defeat',\n",
              " 'mi chief present russia grow threat british interest',\n",
              " 'washington state upend trump travel ban new york time',\n",
              " 'protect swerve police chief catch speed get laugh ticket video',\n",
              " 'fake news trump hit mexico explodes',\n",
              " 'go wikileaks',\n",
              " 'former cia director blame millennials wikileaks document breitbart',\n",
              " 'tell story slavery new york time',\n",
              " 'live wire dutch election high turnout expect controversy turkish mosque polling centre',\n",
              " 'shave mean freedom omar',\n",
              " 'bombshell leak email expose muslim get obama administration',\n",
              " 'native american part ten lose tribe jewish people',\n",
              " 'blm rapper bill allege son nasty surprise hillary',\n",
              " 'kevin durant join golden state warrior new york time',\n",
              " 'indian call center become major center defraud american breitbart',\n",
              " 'congress attorney general lynch pleads fifth secret iran ransom payment',\n",
              " 'los angeles time editorial lose trump narcissist demagogue breitbart',\n",
              " 'swirl untruths falsehood call lie lie new york time',\n",
              " 'hillary clinton lead donald trump new hampshire florida poll show new york time',\n",
              " 'gene wilder huma abedin donald trump monday even brief new york time',\n",
              " 'watch blimp crash catch fire u open breitbart',\n",
              " 'toddler loose gun car mother die new york time',\n",
              " 'asian american actor fight visibility ignore new york time',\n",
              " 'mexican feel environment',\n",
              " 'inside donald trump last stand anxious nominee seek assurance new york time',\n",
              " 'park service name diverse national landmarks new york time',\n",
              " 'weiner rise white house ally disgraced ex congressman hire breitbart',\n",
              " 'trump lose grab musket former congressman ready go full revolution',\n",
              " 'decode north korea claim successful nuclear test new york time',\n",
              " 'bill belichick witness list testify aaron hernandez double murder case breitbart',\n",
              " 'l mayor silent city rise violent crime breitbart',\n",
              " 'theresa may new british prime minister give boris johnson key post new york time',\n",
              " 'donald trump hillary clinton iphone wednesday evening brief new york time',\n",
              " 'usa kill million people victim nation since world war ii',\n",
              " 'police officer face backlash hillary photo',\n",
              " 'shakespeare remain authentically boring',\n",
              " 'georgia candidate jon ossoff film firm finance facebook fact check funder',\n",
              " 'effort defeat isi u iran impede one another new york time',\n",
              " 'rick put bullet trump wilson potus supporter see scalise shoot bless breitbart',\n",
              " 'western intelligence agency run al qaeda camp north africa',\n",
              " 'trump tell plan parenthood funding stay abortion go new york time',\n",
              " 'comment hillary clinton gun control agenda expose wikileaks email braindiseasecalledliberalism',\n",
              " 'barack obama delay suspend election hillary force new fbi email investigation',\n",
              " 'donald trump incites feud g p candidate flee shadow new york time',\n",
              " 'germany student force chant allahu akbar punish refuse trip mosque',\n",
              " 'meteor space junk rocket mysterious flash hit siberia',\n",
              " 'trump national security adviser call russian envoy day sanction impose new york time',\n",
              " 'project veritas implicate democratic operative claim credit romney video',\n",
              " 'lay american require zip lip way grow bolder new york time',\n",
              " ...]"
            ]
          },
          "metadata": {},
          "execution_count": 39
        }
      ],
      "source": [
        "corpus"
      ]
    },
    {
      "cell_type": "markdown",
      "metadata": {
        "id": "QCdyTaFoK343"
      },
      "source": [
        "#onehot_repr=[one_hot(words,voc_size)for words in corpus]\n",
        "onehot_repr=encoding_tfidf(corpus)\n",
        "pad_length=20\n",
        "\n",
        "array=[]\n",
        "for i in range(len(corpus)):\n",
        "    array.append(drop_zeroes(onehot_repr[i]))\n",
        "    \n",
        "pad_sequences(array,padding='pre',maxlen=pad_length)    "
      ]
    },
    {
      "cell_type": "markdown",
      "metadata": {
        "id": "4JDIYy7PK343"
      },
      "source": [
        "array.shape"
      ]
    },
    {
      "cell_type": "code",
      "execution_count": 40,
      "metadata": {
        "id": "f3gKdH_NK343"
      },
      "outputs": [],
      "source": [
        "def drop_zeroes(array):\n",
        "    pad_length = 20\n",
        "    return_array=[]\n",
        "\n",
        "    for i in array:\n",
        "        if i == 0 :\n",
        "            pass\n",
        "        else :\n",
        "            return_array.append(i)\n",
        "    return return_array\n",
        "\n"
      ]
    },
    {
      "cell_type": "code",
      "execution_count": 41,
      "metadata": {
        "id": "bjmvBxrlK344",
        "outputId": "ce15abf0-7a2b-4419-8def-6ee7d260ab84",
        "colab": {
          "base_uri": "https://localhost:8080/"
        }
      },
      "outputs": [
        {
          "output_type": "stream",
          "name": "stdout",
          "text": [
            "[2, 2, 3, 6]\n"
          ]
        }
      ],
      "source": [
        "print(drop_zeroes([0,0,0,0,0,0,2, 2 , 3 ,6,0,0,0,0,0,0,0]))"
      ]
    },
    {
      "cell_type": "code",
      "execution_count": 42,
      "metadata": {
        "id": "GhcnwvxYK344"
      },
      "outputs": [],
      "source": [
        "from sklearn.feature_extraction.text import TfidfVectorizer\n",
        "import numpy as np\n",
        "feature_names=[]\n",
        "def encoding_tfidf(corpus):\n",
        "    # Vectorize the text data using TF-IDF\n",
        "    global  voc_size\n",
        "    global feature_names\n",
        "    vectorizer = TfidfVectorizer()\n",
        "    data = vectorizer.fit_transform(corpus)\n",
        "    # Get the feature names (vocabulary)\n",
        "    feature_names = vectorizer.get_feature_names_out()\n",
        "    print()\n",
        "    word_to_index = {word: index for index, word in enumerate(feature_names)}\n",
        "    voc_size =len(feature_names)\n",
        "    #Numerical Representation (Using TF-IDF Values)\n",
        "    sequences = []\n",
        "    for row in data.toarray():\n",
        "        sentence_indices = [word_to_index[feature_names[i]] for i in np.nonzero(row)[0]]\n",
        "        sequences.append(sentence_indices)\n",
        "    return sequences\n"
      ]
    },
    {
      "cell_type": "markdown",
      "metadata": {
        "id": "lrPnx-TMK344"
      },
      "source": [
        "vectorizer = TfidfVectorizer(max_features= 300)\n",
        "data = vectorizer.fit_transform(corpus)\n",
        "\n",
        "#for j in range(data.toarray().shape[0]):\n",
        "#    for i in range(data.toarray().shape[1]):\n",
        "#        if data.toarray()[j][i] != 0 :\n",
        "#            print(f' message {j}  word {i} = {data.toarray()[j][i]}')"
      ]
    },
    {
      "cell_type": "code",
      "execution_count": 43,
      "metadata": {
        "id": "62pKSyApK344"
      },
      "outputs": [],
      "source": [
        "#from gensim.models import Word2Vec\n"
      ]
    },
    {
      "cell_type": "code",
      "execution_count": 44,
      "metadata": {
        "id": "_9ORCXH3K349"
      },
      "outputs": [],
      "source": [
        "def preprocess_text(text):\n",
        "    tokens = word_tokenize(text.lower())\n",
        "    return [word for word in tokens if word not in stopwords.words('english') and word.isalnum()]"
      ]
    },
    {
      "cell_type": "code",
      "execution_count": 45,
      "metadata": {
        "id": "dNqkmEU-K349"
      },
      "outputs": [],
      "source": [
        "corpus_wv = [preprocess_text(message) for message in corpus]"
      ]
    },
    {
      "cell_type": "code",
      "execution_count": 46,
      "metadata": {
        "id": "kV26jgm1K349"
      },
      "outputs": [],
      "source": [
        "#corpus_wv"
      ]
    },
    {
      "cell_type": "code",
      "execution_count": 47,
      "metadata": {
        "id": "oTRsWtE3K34-"
      },
      "outputs": [],
      "source": [
        "\n",
        "#model = Word2Vec(sentences=corpus_wv, vector_size=300, window=5, min_count=1, workers=4)"
      ]
    },
    {
      "cell_type": "code",
      "execution_count": 48,
      "metadata": {
        "id": "V5EqJjYyK34-"
      },
      "outputs": [],
      "source": [
        "\n",
        "#embedding_matrix = np.zeros((len(model.wv), 300))\n",
        "#for i, word in enumerate(model.wv.key_to_index):\n",
        "#    embedding_matrix[i] = model.wv[word]"
      ]
    },
    {
      "cell_type": "code",
      "execution_count": 49,
      "metadata": {
        "id": "WkTgOFABK34-"
      },
      "outputs": [],
      "source": [
        "#embedding_matrix.shape"
      ]
    },
    {
      "cell_type": "code",
      "execution_count": 50,
      "metadata": {
        "id": "6U4097DNK34-"
      },
      "outputs": [],
      "source": [
        "#vocab=model.wv.key_to_index\n",
        "#voc_size=embedding_matrix.shape[0]"
      ]
    },
    {
      "cell_type": "code",
      "execution_count": 51,
      "metadata": {
        "id": "5W9Ll_6pK34-"
      },
      "outputs": [],
      "source": [
        "#word_to_index = {word: index for index, word in enumerate(vocab)}"
      ]
    },
    {
      "cell_type": "code",
      "execution_count": 52,
      "metadata": {
        "id": "7CkbklNAK34-"
      },
      "outputs": [],
      "source": [
        "#word_to_index"
      ]
    },
    {
      "cell_type": "code",
      "execution_count": 53,
      "metadata": {
        "id": "CjC6P-jjK34-"
      },
      "outputs": [],
      "source": [
        "\n",
        "\n",
        "def text_to_sequence(text):\n",
        "    return [word_to_index[word] for word in text]\n",
        "\n",
        "#sequences = [text_to_sequence(message) for message in corpus_wv]"
      ]
    },
    {
      "cell_type": "code",
      "execution_count": 54,
      "metadata": {
        "id": "FLC1Ej-2K34-"
      },
      "outputs": [],
      "source": [
        "#sequences"
      ]
    },
    {
      "cell_type": "code",
      "execution_count": 55,
      "metadata": {
        "id": "v8FYGCRZK34-"
      },
      "outputs": [],
      "source": [
        "#max_length = 20\n",
        "#padded_sequences = pad_sequences(sequences, maxlen=max_length, padding='pre')\n",
        "#pd.DataFrame(padded_sequences,columns=[f'column{column}' for column in range(1,21)])"
      ]
    },
    {
      "cell_type": "code",
      "execution_count": 56,
      "metadata": {
        "id": "9HguvsY_K34-"
      },
      "outputs": [],
      "source": [
        "#padded_sequences.shape"
      ]
    },
    {
      "cell_type": "code",
      "execution_count": 61,
      "metadata": {
        "id": "Fd-OoCBMK34_"
      },
      "outputs": [],
      "source": [
        "def encode_sentences(sentences):\n",
        "  input_ids = []\n",
        "  attention_masks = []\n",
        "  for sentence in sentences:\n",
        "    encoding = tokenizer.encode_plus(\n",
        "      sentence,\n",
        "      add_special_tokens=True,\n",
        "      max_length=64,\n",
        "      padding='max_length',\n",
        "      truncation=True,\n",
        "      return_attention_mask=True,\n",
        "      return_tensors='tf'\n",
        "    )\n",
        "    input_ids.append(encoding['input_ids'])\n",
        "    attention_masks.append(encoding['attention_mask'])\n",
        "  return tf.concat(input_ids, axis=0), tf.concat(attention_masks, axis=0)\n",
        "\n",
        "# Example usage:\n",
        "input_ids, attention_masks = encode_sentences(corpus)\n"
      ]
    },
    {
      "cell_type": "code",
      "source": [
        "import torch\n",
        "if torch.cuda.is_available():\n",
        " device = torch.device('cuda')\n"
      ],
      "metadata": {
        "id": "oyxvEcz02TSq"
      },
      "execution_count": 70,
      "outputs": []
    },
    {
      "cell_type": "code",
      "source": [
        "# Training loop (example)\n",
        "num_epochs = 5\n",
        "batch_size = 32\n",
        "\n",
        "from torch.utils.data import DataLoader, TensorDataset\n",
        "\n",
        "# Assuming 'input_ids', 'attention_masks', and 'labels' are already defined as tensors\n",
        "dataset = TensorDataset(input_ids, attention_masks)  # Create a TensorDataset\n",
        "dataloader = DataLoader(dataset, batch_size=32, shuffle=True)  # Create a DataLoader\n",
        "\n",
        "for epoch in range(num_epochs):\n",
        "    for batch in dataloader:\n",
        "        input_ids = batch['input_ids'].to(device)\n",
        "        attention_masks = batch['attention_masks'].to(device)\n",
        "        optimizer.zero_grad()\n",
        "        outputs = bert_model(input_ids, attention_masks).to(device)\n",
        "        loss = loss_function(outputs, labels)\n",
        "        loss.backward()\n",
        "        optimizer.step()\n",
        "\n",
        "\n"
      ],
      "metadata": {
        "id": "6uYV0JuiNpYP",
        "outputId": "11956aa5-ee8d-4c65-9366-c1ea09ae4886",
        "colab": {
          "base_uri": "https://localhost:8080/",
          "height": 533
        }
      },
      "execution_count": 76,
      "outputs": [
        {
          "output_type": "error",
          "ename": "AttributeError",
          "evalue": "EagerTensor object has no attribute 'size'. \n        If you are looking for numpy-related methods, please run the following:\n        tf.experimental.numpy.experimental_enable_numpy_behavior()\n      ",
          "traceback": [
            "\u001b[0;31m---------------------------------------------------------------------------\u001b[0m",
            "\u001b[0;31mAttributeError\u001b[0m                            Traceback (most recent call last)",
            "\u001b[0;32m<ipython-input-76-65816919aa71>\u001b[0m in \u001b[0;36m<cell line: 8>\u001b[0;34m()\u001b[0m\n\u001b[1;32m      6\u001b[0m \u001b[0;34m\u001b[0m\u001b[0m\n\u001b[1;32m      7\u001b[0m \u001b[0;31m# Assuming 'input_ids', 'attention_masks', and 'labels' are already defined as tensors\u001b[0m\u001b[0;34m\u001b[0m\u001b[0;34m\u001b[0m\u001b[0m\n\u001b[0;32m----> 8\u001b[0;31m \u001b[0mdataset\u001b[0m \u001b[0;34m=\u001b[0m \u001b[0mTensorDataset\u001b[0m\u001b[0;34m(\u001b[0m\u001b[0minput_ids\u001b[0m\u001b[0;34m,\u001b[0m \u001b[0mattention_masks\u001b[0m\u001b[0;34m)\u001b[0m  \u001b[0;31m# Create a TensorDataset\u001b[0m\u001b[0;34m\u001b[0m\u001b[0;34m\u001b[0m\u001b[0m\n\u001b[0m\u001b[1;32m      9\u001b[0m \u001b[0mdataloader\u001b[0m \u001b[0;34m=\u001b[0m \u001b[0mDataLoader\u001b[0m\u001b[0;34m(\u001b[0m\u001b[0mdataset\u001b[0m\u001b[0;34m,\u001b[0m \u001b[0mbatch_size\u001b[0m\u001b[0;34m=\u001b[0m\u001b[0;36m32\u001b[0m\u001b[0;34m,\u001b[0m \u001b[0mshuffle\u001b[0m\u001b[0;34m=\u001b[0m\u001b[0;32mTrue\u001b[0m\u001b[0;34m)\u001b[0m  \u001b[0;31m# Create a DataLoader\u001b[0m\u001b[0;34m\u001b[0m\u001b[0;34m\u001b[0m\u001b[0m\n\u001b[1;32m     10\u001b[0m \u001b[0;34m\u001b[0m\u001b[0m\n",
            "\u001b[0;32m/usr/local/lib/python3.10/dist-packages/torch/utils/data/dataset.py\u001b[0m in \u001b[0;36m__init__\u001b[0;34m(self, *tensors)\u001b[0m\n\u001b[1;32m    201\u001b[0m \u001b[0;34m\u001b[0m\u001b[0m\n\u001b[1;32m    202\u001b[0m     \u001b[0;32mdef\u001b[0m \u001b[0m__init__\u001b[0m\u001b[0;34m(\u001b[0m\u001b[0mself\u001b[0m\u001b[0;34m,\u001b[0m \u001b[0;34m*\u001b[0m\u001b[0mtensors\u001b[0m\u001b[0;34m:\u001b[0m \u001b[0mTensor\u001b[0m\u001b[0;34m)\u001b[0m \u001b[0;34m->\u001b[0m \u001b[0;32mNone\u001b[0m\u001b[0;34m:\u001b[0m\u001b[0;34m\u001b[0m\u001b[0;34m\u001b[0m\u001b[0m\n\u001b[0;32m--> 203\u001b[0;31m         assert all(\n\u001b[0m\u001b[1;32m    204\u001b[0m             \u001b[0mtensors\u001b[0m\u001b[0;34m[\u001b[0m\u001b[0;36m0\u001b[0m\u001b[0;34m]\u001b[0m\u001b[0;34m.\u001b[0m\u001b[0msize\u001b[0m\u001b[0;34m(\u001b[0m\u001b[0;36m0\u001b[0m\u001b[0;34m)\u001b[0m \u001b[0;34m==\u001b[0m \u001b[0mtensor\u001b[0m\u001b[0;34m.\u001b[0m\u001b[0msize\u001b[0m\u001b[0;34m(\u001b[0m\u001b[0;36m0\u001b[0m\u001b[0;34m)\u001b[0m \u001b[0;32mfor\u001b[0m \u001b[0mtensor\u001b[0m \u001b[0;32min\u001b[0m \u001b[0mtensors\u001b[0m\u001b[0;34m\u001b[0m\u001b[0;34m\u001b[0m\u001b[0m\n\u001b[1;32m    205\u001b[0m         ), \"Size mismatch between tensors\"\n",
            "\u001b[0;32m/usr/local/lib/python3.10/dist-packages/torch/utils/data/dataset.py\u001b[0m in \u001b[0;36m<genexpr>\u001b[0;34m(.0)\u001b[0m\n\u001b[1;32m    202\u001b[0m     \u001b[0;32mdef\u001b[0m \u001b[0m__init__\u001b[0m\u001b[0;34m(\u001b[0m\u001b[0mself\u001b[0m\u001b[0;34m,\u001b[0m \u001b[0;34m*\u001b[0m\u001b[0mtensors\u001b[0m\u001b[0;34m:\u001b[0m \u001b[0mTensor\u001b[0m\u001b[0;34m)\u001b[0m \u001b[0;34m->\u001b[0m \u001b[0;32mNone\u001b[0m\u001b[0;34m:\u001b[0m\u001b[0;34m\u001b[0m\u001b[0;34m\u001b[0m\u001b[0m\n\u001b[1;32m    203\u001b[0m         assert all(\n\u001b[0;32m--> 204\u001b[0;31m             \u001b[0mtensors\u001b[0m\u001b[0;34m[\u001b[0m\u001b[0;36m0\u001b[0m\u001b[0;34m]\u001b[0m\u001b[0;34m.\u001b[0m\u001b[0msize\u001b[0m\u001b[0;34m(\u001b[0m\u001b[0;36m0\u001b[0m\u001b[0;34m)\u001b[0m \u001b[0;34m==\u001b[0m \u001b[0mtensor\u001b[0m\u001b[0;34m.\u001b[0m\u001b[0msize\u001b[0m\u001b[0;34m(\u001b[0m\u001b[0;36m0\u001b[0m\u001b[0;34m)\u001b[0m \u001b[0;32mfor\u001b[0m \u001b[0mtensor\u001b[0m \u001b[0;32min\u001b[0m \u001b[0mtensors\u001b[0m\u001b[0;34m\u001b[0m\u001b[0;34m\u001b[0m\u001b[0m\n\u001b[0m\u001b[1;32m    205\u001b[0m         ), \"Size mismatch between tensors\"\n\u001b[1;32m    206\u001b[0m         \u001b[0mself\u001b[0m\u001b[0;34m.\u001b[0m\u001b[0mtensors\u001b[0m \u001b[0;34m=\u001b[0m \u001b[0mtensors\u001b[0m\u001b[0;34m\u001b[0m\u001b[0;34m\u001b[0m\u001b[0m\n",
            "\u001b[0;32m/usr/local/lib/python3.10/dist-packages/tensorflow/python/framework/tensor.py\u001b[0m in \u001b[0;36m__getattr__\u001b[0;34m(self, name)\u001b[0m\n\u001b[1;32m    254\u001b[0m                 \"tolist\", \"data\"}:\n\u001b[1;32m    255\u001b[0m       \u001b[0;31m# TODO(wangpeng): Export the enable_numpy_behavior knob\u001b[0m\u001b[0;34m\u001b[0m\u001b[0;34m\u001b[0m\u001b[0m\n\u001b[0;32m--> 256\u001b[0;31m       raise AttributeError(\n\u001b[0m\u001b[1;32m    257\u001b[0m           f\"{type(self).__name__} object has no attribute '{name}'. \" + \"\"\"\n\u001b[1;32m    258\u001b[0m         \u001b[0mIf\u001b[0m \u001b[0myou\u001b[0m \u001b[0mare\u001b[0m \u001b[0mlooking\u001b[0m \u001b[0;32mfor\u001b[0m \u001b[0mnumpy\u001b[0m\u001b[0;34m-\u001b[0m\u001b[0mrelated\u001b[0m \u001b[0mmethods\u001b[0m\u001b[0;34m,\u001b[0m \u001b[0mplease\u001b[0m \u001b[0mrun\u001b[0m \u001b[0mthe\u001b[0m \u001b[0mfollowing\u001b[0m\u001b[0;34m:\u001b[0m\u001b[0;34m\u001b[0m\u001b[0;34m\u001b[0m\u001b[0m\n",
            "\u001b[0;31mAttributeError\u001b[0m: EagerTensor object has no attribute 'size'. \n        If you are looking for numpy-related methods, please run the following:\n        tf.experimental.numpy.experimental_enable_numpy_behavior()\n      "
          ]
        }
      ]
    },
    {
      "cell_type": "markdown",
      "metadata": {
        "id": "ur7ksQjCK34_"
      },
      "source": [
        "### Embedding Representation"
      ]
    },
    {
      "cell_type": "code",
      "execution_count": null,
      "metadata": {
        "id": "gwd_2i3tK34_"
      },
      "outputs": [],
      "source": [
        "embedding_layer = Embedding(input_dim=voc_size,\n",
        "                            output_dim=300,\n",
        "                            weights=[embedding_matrix],\n",
        "                            input_length=max_length,\n",
        "                            trainable=False)"
      ]
    },
    {
      "cell_type": "code",
      "execution_count": null,
      "metadata": {
        "scrolled": true,
        "id": "GGHtI0u2K34_"
      },
      "outputs": [],
      "source": [
        "## Creating model\n",
        "embedding_vector_features=40\n",
        "model=Sequential()\n",
        "model1.add(embedding_layer)\n",
        "#model.add(Embedding(voc_size,embedding_vector_features,input_length=max_length))\n",
        "model.add(LSTM(100))\n",
        "model.add(Dense(1,activation='sigmoid'))\n",
        "model.compile(loss='binary_crossentropy',optimizer='adam',metrics=['accuracy'])\n",
        "print(model.summary())"
      ]
    },
    {
      "cell_type": "code",
      "execution_count": null,
      "metadata": {
        "id": "sf1vRb1rK34_"
      },
      "outputs": [],
      "source": []
    },
    {
      "cell_type": "code",
      "execution_count": null,
      "metadata": {
        "id": "_tZSBd1rK34_"
      },
      "outputs": [],
      "source": [
        "## Creating model\n",
        "sent_length=max_length\n",
        "embedding_vector_features=40\n",
        "model1=Sequential()\n",
        "#model1.add(Embedding(voc_size,embedding_vector_features,input_length=sent_length))\n",
        "model1.add(embedding_layer)\n",
        "model1.add(Bidirectional(LSTM(100)))\n",
        "model1.add(Dropout(0.5))\n",
        "model1.add(Dense(1,activation='sigmoid'))\n",
        "model1.compile(loss='binary_crossentropy',optimizer='adam',metrics=['accuracy'])\n",
        "print(model1.summary())"
      ]
    },
    {
      "cell_type": "code",
      "execution_count": null,
      "metadata": {
        "id": "wPZZfZbPK35A"
      },
      "outputs": [],
      "source": [
        "len(padded_sequences),y.shape"
      ]
    },
    {
      "cell_type": "code",
      "execution_count": null,
      "metadata": {
        "id": "zQNRgZ06K35A"
      },
      "outputs": [],
      "source": [
        "data=embedding_matrix"
      ]
    },
    {
      "cell_type": "code",
      "execution_count": null,
      "metadata": {
        "id": "BsUx_KxEK35A"
      },
      "outputs": [],
      "source": [
        "import numpy as np\n",
        "#X_final=padded_sequences\n",
        "X_final= padded_sequences\n",
        "y_final=np.array(y)"
      ]
    },
    {
      "cell_type": "code",
      "execution_count": null,
      "metadata": {
        "id": "X7POPoMfK35A"
      },
      "outputs": [],
      "source": [
        "X_final.shape,y_final.shape"
      ]
    },
    {
      "cell_type": "code",
      "execution_count": null,
      "metadata": {
        "id": "ppCj7BtSK35A"
      },
      "outputs": [],
      "source": [
        "from sklearn.model_selection import train_test_split\n",
        "X_train, X_test, y_train, y_test = train_test_split(X_final, y_final, test_size=0.33, random_state=42)"
      ]
    },
    {
      "cell_type": "markdown",
      "metadata": {
        "id": "Jf5UdszjK35A"
      },
      "source": [
        "### Model Training"
      ]
    },
    {
      "cell_type": "code",
      "execution_count": null,
      "metadata": {
        "id": "DNI2jDwbK35A"
      },
      "outputs": [],
      "source": [
        "### Finally Training\n",
        "model1.fit(X_train,y_train,validation_data=(X_test,y_test),epochs=10,batch_size=64)"
      ]
    },
    {
      "cell_type": "markdown",
      "metadata": {
        "id": "zCWIKZu-K35A"
      },
      "source": [
        "### Performance Metrics And Accuracy"
      ]
    },
    {
      "cell_type": "code",
      "execution_count": null,
      "metadata": {
        "id": "FBOE97TNK35A"
      },
      "outputs": [],
      "source": [
        "\n",
        "y_pred=model1.predict(X_test)\n",
        "y_pred1=[1 if i>=0.5 else 0 for i in y_pred ]"
      ]
    },
    {
      "cell_type": "code",
      "execution_count": null,
      "metadata": {
        "id": "u-FTzM4CK35A"
      },
      "outputs": [],
      "source": [
        "#y_pred1"
      ]
    },
    {
      "cell_type": "code",
      "execution_count": null,
      "metadata": {
        "id": "xlNmiRfMK35A"
      },
      "outputs": [],
      "source": [
        "from sklearn.metrics import confusion_matrix"
      ]
    },
    {
      "cell_type": "code",
      "execution_count": null,
      "metadata": {
        "scrolled": true,
        "id": "WC3YVTi1K35B"
      },
      "outputs": [],
      "source": [
        "confusion_matrix(y_test,y_pred1)"
      ]
    },
    {
      "cell_type": "code",
      "execution_count": null,
      "metadata": {
        "id": "Mv2UJ8eTK35B"
      },
      "outputs": [],
      "source": [
        "from sklearn.metrics import accuracy_score\n",
        "accuracy_score(y_test,y_pred1)"
      ]
    },
    {
      "cell_type": "code",
      "execution_count": null,
      "metadata": {
        "id": "QIJNzWRoK35B"
      },
      "outputs": [],
      "source": [
        "from sklearn.metrics import classification_report\n",
        "print(classification_report(y_test,y_pred1))"
      ]
    },
    {
      "cell_type": "code",
      "execution_count": null,
      "metadata": {
        "id": "frb3xojpK35B"
      },
      "outputs": [],
      "source": []
    },
    {
      "cell_type": "code",
      "execution_count": null,
      "metadata": {
        "id": "PBwGn8EaK35B"
      },
      "outputs": [],
      "source": []
    }
  ],
  "metadata": {
    "kernelspec": {
      "display_name": "Python 3",
      "name": "python3"
    },
    "language_info": {
      "codemirror_mode": {
        "name": "ipython",
        "version": 3
      },
      "file_extension": ".py",
      "mimetype": "text/x-python",
      "name": "python",
      "nbconvert_exporter": "python",
      "pygments_lexer": "ipython3",
      "version": "3.11.5"
    },
    "colab": {
      "provenance": [],
      "gpuType": "T4",
      "include_colab_link": true
    },
    "accelerator": "GPU",
    "widgets": {
      "application/vnd.jupyter.widget-state+json": {
        "ea1fc41ea7554fb894d92b2298be449e": {
          "model_module": "@jupyter-widgets/controls",
          "model_name": "HBoxModel",
          "model_module_version": "1.5.0",
          "state": {
            "_dom_classes": [],
            "_model_module": "@jupyter-widgets/controls",
            "_model_module_version": "1.5.0",
            "_model_name": "HBoxModel",
            "_view_count": null,
            "_view_module": "@jupyter-widgets/controls",
            "_view_module_version": "1.5.0",
            "_view_name": "HBoxView",
            "box_style": "",
            "children": [
              "IPY_MODEL_1db61c5571b84b69ba94d89b08319074",
              "IPY_MODEL_3530ffbfd292462e87bd718d0d553ab5",
              "IPY_MODEL_2b3f316f9c4944868717da4acb2c7470"
            ],
            "layout": "IPY_MODEL_e078da0501d44275b0057451de54336a"
          }
        },
        "1db61c5571b84b69ba94d89b08319074": {
          "model_module": "@jupyter-widgets/controls",
          "model_name": "HTMLModel",
          "model_module_version": "1.5.0",
          "state": {
            "_dom_classes": [],
            "_model_module": "@jupyter-widgets/controls",
            "_model_module_version": "1.5.0",
            "_model_name": "HTMLModel",
            "_view_count": null,
            "_view_module": "@jupyter-widgets/controls",
            "_view_module_version": "1.5.0",
            "_view_name": "HTMLView",
            "description": "",
            "description_tooltip": null,
            "layout": "IPY_MODEL_ca4f621df2a84adf8f6e4864c5da664a",
            "placeholder": "​",
            "style": "IPY_MODEL_750d288b6b554583836eafa884d89aa7",
            "value": "tokenizer_config.json: 100%"
          }
        },
        "3530ffbfd292462e87bd718d0d553ab5": {
          "model_module": "@jupyter-widgets/controls",
          "model_name": "FloatProgressModel",
          "model_module_version": "1.5.0",
          "state": {
            "_dom_classes": [],
            "_model_module": "@jupyter-widgets/controls",
            "_model_module_version": "1.5.0",
            "_model_name": "FloatProgressModel",
            "_view_count": null,
            "_view_module": "@jupyter-widgets/controls",
            "_view_module_version": "1.5.0",
            "_view_name": "ProgressView",
            "bar_style": "success",
            "description": "",
            "description_tooltip": null,
            "layout": "IPY_MODEL_ab38ca8bfe3448a2b1b7e31f4ccc45d3",
            "max": 48,
            "min": 0,
            "orientation": "horizontal",
            "style": "IPY_MODEL_4ae343144ddf4c8cb31d60649c8ebd1e",
            "value": 48
          }
        },
        "2b3f316f9c4944868717da4acb2c7470": {
          "model_module": "@jupyter-widgets/controls",
          "model_name": "HTMLModel",
          "model_module_version": "1.5.0",
          "state": {
            "_dom_classes": [],
            "_model_module": "@jupyter-widgets/controls",
            "_model_module_version": "1.5.0",
            "_model_name": "HTMLModel",
            "_view_count": null,
            "_view_module": "@jupyter-widgets/controls",
            "_view_module_version": "1.5.0",
            "_view_name": "HTMLView",
            "description": "",
            "description_tooltip": null,
            "layout": "IPY_MODEL_a9c35369ae65427fb2fc814e0530723c",
            "placeholder": "​",
            "style": "IPY_MODEL_231f167705324c918ae17d3100770fc9",
            "value": " 48.0/48.0 [00:00&lt;00:00, 2.66kB/s]"
          }
        },
        "e078da0501d44275b0057451de54336a": {
          "model_module": "@jupyter-widgets/base",
          "model_name": "LayoutModel",
          "model_module_version": "1.2.0",
          "state": {
            "_model_module": "@jupyter-widgets/base",
            "_model_module_version": "1.2.0",
            "_model_name": "LayoutModel",
            "_view_count": null,
            "_view_module": "@jupyter-widgets/base",
            "_view_module_version": "1.2.0",
            "_view_name": "LayoutView",
            "align_content": null,
            "align_items": null,
            "align_self": null,
            "border": null,
            "bottom": null,
            "display": null,
            "flex": null,
            "flex_flow": null,
            "grid_area": null,
            "grid_auto_columns": null,
            "grid_auto_flow": null,
            "grid_auto_rows": null,
            "grid_column": null,
            "grid_gap": null,
            "grid_row": null,
            "grid_template_areas": null,
            "grid_template_columns": null,
            "grid_template_rows": null,
            "height": null,
            "justify_content": null,
            "justify_items": null,
            "left": null,
            "margin": null,
            "max_height": null,
            "max_width": null,
            "min_height": null,
            "min_width": null,
            "object_fit": null,
            "object_position": null,
            "order": null,
            "overflow": null,
            "overflow_x": null,
            "overflow_y": null,
            "padding": null,
            "right": null,
            "top": null,
            "visibility": null,
            "width": null
          }
        },
        "ca4f621df2a84adf8f6e4864c5da664a": {
          "model_module": "@jupyter-widgets/base",
          "model_name": "LayoutModel",
          "model_module_version": "1.2.0",
          "state": {
            "_model_module": "@jupyter-widgets/base",
            "_model_module_version": "1.2.0",
            "_model_name": "LayoutModel",
            "_view_count": null,
            "_view_module": "@jupyter-widgets/base",
            "_view_module_version": "1.2.0",
            "_view_name": "LayoutView",
            "align_content": null,
            "align_items": null,
            "align_self": null,
            "border": null,
            "bottom": null,
            "display": null,
            "flex": null,
            "flex_flow": null,
            "grid_area": null,
            "grid_auto_columns": null,
            "grid_auto_flow": null,
            "grid_auto_rows": null,
            "grid_column": null,
            "grid_gap": null,
            "grid_row": null,
            "grid_template_areas": null,
            "grid_template_columns": null,
            "grid_template_rows": null,
            "height": null,
            "justify_content": null,
            "justify_items": null,
            "left": null,
            "margin": null,
            "max_height": null,
            "max_width": null,
            "min_height": null,
            "min_width": null,
            "object_fit": null,
            "object_position": null,
            "order": null,
            "overflow": null,
            "overflow_x": null,
            "overflow_y": null,
            "padding": null,
            "right": null,
            "top": null,
            "visibility": null,
            "width": null
          }
        },
        "750d288b6b554583836eafa884d89aa7": {
          "model_module": "@jupyter-widgets/controls",
          "model_name": "DescriptionStyleModel",
          "model_module_version": "1.5.0",
          "state": {
            "_model_module": "@jupyter-widgets/controls",
            "_model_module_version": "1.5.0",
            "_model_name": "DescriptionStyleModel",
            "_view_count": null,
            "_view_module": "@jupyter-widgets/base",
            "_view_module_version": "1.2.0",
            "_view_name": "StyleView",
            "description_width": ""
          }
        },
        "ab38ca8bfe3448a2b1b7e31f4ccc45d3": {
          "model_module": "@jupyter-widgets/base",
          "model_name": "LayoutModel",
          "model_module_version": "1.2.0",
          "state": {
            "_model_module": "@jupyter-widgets/base",
            "_model_module_version": "1.2.0",
            "_model_name": "LayoutModel",
            "_view_count": null,
            "_view_module": "@jupyter-widgets/base",
            "_view_module_version": "1.2.0",
            "_view_name": "LayoutView",
            "align_content": null,
            "align_items": null,
            "align_self": null,
            "border": null,
            "bottom": null,
            "display": null,
            "flex": null,
            "flex_flow": null,
            "grid_area": null,
            "grid_auto_columns": null,
            "grid_auto_flow": null,
            "grid_auto_rows": null,
            "grid_column": null,
            "grid_gap": null,
            "grid_row": null,
            "grid_template_areas": null,
            "grid_template_columns": null,
            "grid_template_rows": null,
            "height": null,
            "justify_content": null,
            "justify_items": null,
            "left": null,
            "margin": null,
            "max_height": null,
            "max_width": null,
            "min_height": null,
            "min_width": null,
            "object_fit": null,
            "object_position": null,
            "order": null,
            "overflow": null,
            "overflow_x": null,
            "overflow_y": null,
            "padding": null,
            "right": null,
            "top": null,
            "visibility": null,
            "width": null
          }
        },
        "4ae343144ddf4c8cb31d60649c8ebd1e": {
          "model_module": "@jupyter-widgets/controls",
          "model_name": "ProgressStyleModel",
          "model_module_version": "1.5.0",
          "state": {
            "_model_module": "@jupyter-widgets/controls",
            "_model_module_version": "1.5.0",
            "_model_name": "ProgressStyleModel",
            "_view_count": null,
            "_view_module": "@jupyter-widgets/base",
            "_view_module_version": "1.2.0",
            "_view_name": "StyleView",
            "bar_color": null,
            "description_width": ""
          }
        },
        "a9c35369ae65427fb2fc814e0530723c": {
          "model_module": "@jupyter-widgets/base",
          "model_name": "LayoutModel",
          "model_module_version": "1.2.0",
          "state": {
            "_model_module": "@jupyter-widgets/base",
            "_model_module_version": "1.2.0",
            "_model_name": "LayoutModel",
            "_view_count": null,
            "_view_module": "@jupyter-widgets/base",
            "_view_module_version": "1.2.0",
            "_view_name": "LayoutView",
            "align_content": null,
            "align_items": null,
            "align_self": null,
            "border": null,
            "bottom": null,
            "display": null,
            "flex": null,
            "flex_flow": null,
            "grid_area": null,
            "grid_auto_columns": null,
            "grid_auto_flow": null,
            "grid_auto_rows": null,
            "grid_column": null,
            "grid_gap": null,
            "grid_row": null,
            "grid_template_areas": null,
            "grid_template_columns": null,
            "grid_template_rows": null,
            "height": null,
            "justify_content": null,
            "justify_items": null,
            "left": null,
            "margin": null,
            "max_height": null,
            "max_width": null,
            "min_height": null,
            "min_width": null,
            "object_fit": null,
            "object_position": null,
            "order": null,
            "overflow": null,
            "overflow_x": null,
            "overflow_y": null,
            "padding": null,
            "right": null,
            "top": null,
            "visibility": null,
            "width": null
          }
        },
        "231f167705324c918ae17d3100770fc9": {
          "model_module": "@jupyter-widgets/controls",
          "model_name": "DescriptionStyleModel",
          "model_module_version": "1.5.0",
          "state": {
            "_model_module": "@jupyter-widgets/controls",
            "_model_module_version": "1.5.0",
            "_model_name": "DescriptionStyleModel",
            "_view_count": null,
            "_view_module": "@jupyter-widgets/base",
            "_view_module_version": "1.2.0",
            "_view_name": "StyleView",
            "description_width": ""
          }
        },
        "4852238cecca4d5db89dbae29d9e52e2": {
          "model_module": "@jupyter-widgets/controls",
          "model_name": "HBoxModel",
          "model_module_version": "1.5.0",
          "state": {
            "_dom_classes": [],
            "_model_module": "@jupyter-widgets/controls",
            "_model_module_version": "1.5.0",
            "_model_name": "HBoxModel",
            "_view_count": null,
            "_view_module": "@jupyter-widgets/controls",
            "_view_module_version": "1.5.0",
            "_view_name": "HBoxView",
            "box_style": "",
            "children": [
              "IPY_MODEL_f5b3a715147c4ae5b15b2ba413fe4234",
              "IPY_MODEL_ea04c724af8946868b43fb23c336eb62",
              "IPY_MODEL_195a26918a9245ac97e939e69e6c3015"
            ],
            "layout": "IPY_MODEL_c9d642c6b10441a385e9bc0f6f710beb"
          }
        },
        "f5b3a715147c4ae5b15b2ba413fe4234": {
          "model_module": "@jupyter-widgets/controls",
          "model_name": "HTMLModel",
          "model_module_version": "1.5.0",
          "state": {
            "_dom_classes": [],
            "_model_module": "@jupyter-widgets/controls",
            "_model_module_version": "1.5.0",
            "_model_name": "HTMLModel",
            "_view_count": null,
            "_view_module": "@jupyter-widgets/controls",
            "_view_module_version": "1.5.0",
            "_view_name": "HTMLView",
            "description": "",
            "description_tooltip": null,
            "layout": "IPY_MODEL_082c9ec4f204402daa2ee43a702cf5ff",
            "placeholder": "​",
            "style": "IPY_MODEL_636240bd36a446608c7cce956f884fe8",
            "value": "vocab.txt: 100%"
          }
        },
        "ea04c724af8946868b43fb23c336eb62": {
          "model_module": "@jupyter-widgets/controls",
          "model_name": "FloatProgressModel",
          "model_module_version": "1.5.0",
          "state": {
            "_dom_classes": [],
            "_model_module": "@jupyter-widgets/controls",
            "_model_module_version": "1.5.0",
            "_model_name": "FloatProgressModel",
            "_view_count": null,
            "_view_module": "@jupyter-widgets/controls",
            "_view_module_version": "1.5.0",
            "_view_name": "ProgressView",
            "bar_style": "success",
            "description": "",
            "description_tooltip": null,
            "layout": "IPY_MODEL_d43e51e4afcc426599eab983fe975e33",
            "max": 231508,
            "min": 0,
            "orientation": "horizontal",
            "style": "IPY_MODEL_c318444425014d03b407434ae0a83846",
            "value": 231508
          }
        },
        "195a26918a9245ac97e939e69e6c3015": {
          "model_module": "@jupyter-widgets/controls",
          "model_name": "HTMLModel",
          "model_module_version": "1.5.0",
          "state": {
            "_dom_classes": [],
            "_model_module": "@jupyter-widgets/controls",
            "_model_module_version": "1.5.0",
            "_model_name": "HTMLModel",
            "_view_count": null,
            "_view_module": "@jupyter-widgets/controls",
            "_view_module_version": "1.5.0",
            "_view_name": "HTMLView",
            "description": "",
            "description_tooltip": null,
            "layout": "IPY_MODEL_16a197300e044280ab7efd59c43a3bd3",
            "placeholder": "​",
            "style": "IPY_MODEL_ab2be3dcb664469d82cdedff6e3dc20b",
            "value": " 232k/232k [00:00&lt;00:00, 1.78MB/s]"
          }
        },
        "c9d642c6b10441a385e9bc0f6f710beb": {
          "model_module": "@jupyter-widgets/base",
          "model_name": "LayoutModel",
          "model_module_version": "1.2.0",
          "state": {
            "_model_module": "@jupyter-widgets/base",
            "_model_module_version": "1.2.0",
            "_model_name": "LayoutModel",
            "_view_count": null,
            "_view_module": "@jupyter-widgets/base",
            "_view_module_version": "1.2.0",
            "_view_name": "LayoutView",
            "align_content": null,
            "align_items": null,
            "align_self": null,
            "border": null,
            "bottom": null,
            "display": null,
            "flex": null,
            "flex_flow": null,
            "grid_area": null,
            "grid_auto_columns": null,
            "grid_auto_flow": null,
            "grid_auto_rows": null,
            "grid_column": null,
            "grid_gap": null,
            "grid_row": null,
            "grid_template_areas": null,
            "grid_template_columns": null,
            "grid_template_rows": null,
            "height": null,
            "justify_content": null,
            "justify_items": null,
            "left": null,
            "margin": null,
            "max_height": null,
            "max_width": null,
            "min_height": null,
            "min_width": null,
            "object_fit": null,
            "object_position": null,
            "order": null,
            "overflow": null,
            "overflow_x": null,
            "overflow_y": null,
            "padding": null,
            "right": null,
            "top": null,
            "visibility": null,
            "width": null
          }
        },
        "082c9ec4f204402daa2ee43a702cf5ff": {
          "model_module": "@jupyter-widgets/base",
          "model_name": "LayoutModel",
          "model_module_version": "1.2.0",
          "state": {
            "_model_module": "@jupyter-widgets/base",
            "_model_module_version": "1.2.0",
            "_model_name": "LayoutModel",
            "_view_count": null,
            "_view_module": "@jupyter-widgets/base",
            "_view_module_version": "1.2.0",
            "_view_name": "LayoutView",
            "align_content": null,
            "align_items": null,
            "align_self": null,
            "border": null,
            "bottom": null,
            "display": null,
            "flex": null,
            "flex_flow": null,
            "grid_area": null,
            "grid_auto_columns": null,
            "grid_auto_flow": null,
            "grid_auto_rows": null,
            "grid_column": null,
            "grid_gap": null,
            "grid_row": null,
            "grid_template_areas": null,
            "grid_template_columns": null,
            "grid_template_rows": null,
            "height": null,
            "justify_content": null,
            "justify_items": null,
            "left": null,
            "margin": null,
            "max_height": null,
            "max_width": null,
            "min_height": null,
            "min_width": null,
            "object_fit": null,
            "object_position": null,
            "order": null,
            "overflow": null,
            "overflow_x": null,
            "overflow_y": null,
            "padding": null,
            "right": null,
            "top": null,
            "visibility": null,
            "width": null
          }
        },
        "636240bd36a446608c7cce956f884fe8": {
          "model_module": "@jupyter-widgets/controls",
          "model_name": "DescriptionStyleModel",
          "model_module_version": "1.5.0",
          "state": {
            "_model_module": "@jupyter-widgets/controls",
            "_model_module_version": "1.5.0",
            "_model_name": "DescriptionStyleModel",
            "_view_count": null,
            "_view_module": "@jupyter-widgets/base",
            "_view_module_version": "1.2.0",
            "_view_name": "StyleView",
            "description_width": ""
          }
        },
        "d43e51e4afcc426599eab983fe975e33": {
          "model_module": "@jupyter-widgets/base",
          "model_name": "LayoutModel",
          "model_module_version": "1.2.0",
          "state": {
            "_model_module": "@jupyter-widgets/base",
            "_model_module_version": "1.2.0",
            "_model_name": "LayoutModel",
            "_view_count": null,
            "_view_module": "@jupyter-widgets/base",
            "_view_module_version": "1.2.0",
            "_view_name": "LayoutView",
            "align_content": null,
            "align_items": null,
            "align_self": null,
            "border": null,
            "bottom": null,
            "display": null,
            "flex": null,
            "flex_flow": null,
            "grid_area": null,
            "grid_auto_columns": null,
            "grid_auto_flow": null,
            "grid_auto_rows": null,
            "grid_column": null,
            "grid_gap": null,
            "grid_row": null,
            "grid_template_areas": null,
            "grid_template_columns": null,
            "grid_template_rows": null,
            "height": null,
            "justify_content": null,
            "justify_items": null,
            "left": null,
            "margin": null,
            "max_height": null,
            "max_width": null,
            "min_height": null,
            "min_width": null,
            "object_fit": null,
            "object_position": null,
            "order": null,
            "overflow": null,
            "overflow_x": null,
            "overflow_y": null,
            "padding": null,
            "right": null,
            "top": null,
            "visibility": null,
            "width": null
          }
        },
        "c318444425014d03b407434ae0a83846": {
          "model_module": "@jupyter-widgets/controls",
          "model_name": "ProgressStyleModel",
          "model_module_version": "1.5.0",
          "state": {
            "_model_module": "@jupyter-widgets/controls",
            "_model_module_version": "1.5.0",
            "_model_name": "ProgressStyleModel",
            "_view_count": null,
            "_view_module": "@jupyter-widgets/base",
            "_view_module_version": "1.2.0",
            "_view_name": "StyleView",
            "bar_color": null,
            "description_width": ""
          }
        },
        "16a197300e044280ab7efd59c43a3bd3": {
          "model_module": "@jupyter-widgets/base",
          "model_name": "LayoutModel",
          "model_module_version": "1.2.0",
          "state": {
            "_model_module": "@jupyter-widgets/base",
            "_model_module_version": "1.2.0",
            "_model_name": "LayoutModel",
            "_view_count": null,
            "_view_module": "@jupyter-widgets/base",
            "_view_module_version": "1.2.0",
            "_view_name": "LayoutView",
            "align_content": null,
            "align_items": null,
            "align_self": null,
            "border": null,
            "bottom": null,
            "display": null,
            "flex": null,
            "flex_flow": null,
            "grid_area": null,
            "grid_auto_columns": null,
            "grid_auto_flow": null,
            "grid_auto_rows": null,
            "grid_column": null,
            "grid_gap": null,
            "grid_row": null,
            "grid_template_areas": null,
            "grid_template_columns": null,
            "grid_template_rows": null,
            "height": null,
            "justify_content": null,
            "justify_items": null,
            "left": null,
            "margin": null,
            "max_height": null,
            "max_width": null,
            "min_height": null,
            "min_width": null,
            "object_fit": null,
            "object_position": null,
            "order": null,
            "overflow": null,
            "overflow_x": null,
            "overflow_y": null,
            "padding": null,
            "right": null,
            "top": null,
            "visibility": null,
            "width": null
          }
        },
        "ab2be3dcb664469d82cdedff6e3dc20b": {
          "model_module": "@jupyter-widgets/controls",
          "model_name": "DescriptionStyleModel",
          "model_module_version": "1.5.0",
          "state": {
            "_model_module": "@jupyter-widgets/controls",
            "_model_module_version": "1.5.0",
            "_model_name": "DescriptionStyleModel",
            "_view_count": null,
            "_view_module": "@jupyter-widgets/base",
            "_view_module_version": "1.2.0",
            "_view_name": "StyleView",
            "description_width": ""
          }
        },
        "b61c53c270b648c18e0ab2d2150ba6fc": {
          "model_module": "@jupyter-widgets/controls",
          "model_name": "HBoxModel",
          "model_module_version": "1.5.0",
          "state": {
            "_dom_classes": [],
            "_model_module": "@jupyter-widgets/controls",
            "_model_module_version": "1.5.0",
            "_model_name": "HBoxModel",
            "_view_count": null,
            "_view_module": "@jupyter-widgets/controls",
            "_view_module_version": "1.5.0",
            "_view_name": "HBoxView",
            "box_style": "",
            "children": [
              "IPY_MODEL_39b96baefafa425d899a6e8df84d5688",
              "IPY_MODEL_66a66ad422d54761a65513d9ac7f86c4",
              "IPY_MODEL_1a44014c65384e1ba74dfb005526d947"
            ],
            "layout": "IPY_MODEL_3671a6e1552645fa861392a9b478e421"
          }
        },
        "39b96baefafa425d899a6e8df84d5688": {
          "model_module": "@jupyter-widgets/controls",
          "model_name": "HTMLModel",
          "model_module_version": "1.5.0",
          "state": {
            "_dom_classes": [],
            "_model_module": "@jupyter-widgets/controls",
            "_model_module_version": "1.5.0",
            "_model_name": "HTMLModel",
            "_view_count": null,
            "_view_module": "@jupyter-widgets/controls",
            "_view_module_version": "1.5.0",
            "_view_name": "HTMLView",
            "description": "",
            "description_tooltip": null,
            "layout": "IPY_MODEL_b3b78c87cff34a238de9e0c336e8b2f6",
            "placeholder": "​",
            "style": "IPY_MODEL_c63b3556a94f4232b039966d1fbf60fa",
            "value": "tokenizer.json: 100%"
          }
        },
        "66a66ad422d54761a65513d9ac7f86c4": {
          "model_module": "@jupyter-widgets/controls",
          "model_name": "FloatProgressModel",
          "model_module_version": "1.5.0",
          "state": {
            "_dom_classes": [],
            "_model_module": "@jupyter-widgets/controls",
            "_model_module_version": "1.5.0",
            "_model_name": "FloatProgressModel",
            "_view_count": null,
            "_view_module": "@jupyter-widgets/controls",
            "_view_module_version": "1.5.0",
            "_view_name": "ProgressView",
            "bar_style": "success",
            "description": "",
            "description_tooltip": null,
            "layout": "IPY_MODEL_fe7d982a1c234b5e967efc3ca0953ab4",
            "max": 466062,
            "min": 0,
            "orientation": "horizontal",
            "style": "IPY_MODEL_cd0b9340f23d4e74a3d686a5f5370f41",
            "value": 466062
          }
        },
        "1a44014c65384e1ba74dfb005526d947": {
          "model_module": "@jupyter-widgets/controls",
          "model_name": "HTMLModel",
          "model_module_version": "1.5.0",
          "state": {
            "_dom_classes": [],
            "_model_module": "@jupyter-widgets/controls",
            "_model_module_version": "1.5.0",
            "_model_name": "HTMLModel",
            "_view_count": null,
            "_view_module": "@jupyter-widgets/controls",
            "_view_module_version": "1.5.0",
            "_view_name": "HTMLView",
            "description": "",
            "description_tooltip": null,
            "layout": "IPY_MODEL_e080e1b65b2c4bb887e8d6a90ddb8d0f",
            "placeholder": "​",
            "style": "IPY_MODEL_3eedaef0c08f4ee381c32862813d658a",
            "value": " 466k/466k [00:00&lt;00:00, 3.46MB/s]"
          }
        },
        "3671a6e1552645fa861392a9b478e421": {
          "model_module": "@jupyter-widgets/base",
          "model_name": "LayoutModel",
          "model_module_version": "1.2.0",
          "state": {
            "_model_module": "@jupyter-widgets/base",
            "_model_module_version": "1.2.0",
            "_model_name": "LayoutModel",
            "_view_count": null,
            "_view_module": "@jupyter-widgets/base",
            "_view_module_version": "1.2.0",
            "_view_name": "LayoutView",
            "align_content": null,
            "align_items": null,
            "align_self": null,
            "border": null,
            "bottom": null,
            "display": null,
            "flex": null,
            "flex_flow": null,
            "grid_area": null,
            "grid_auto_columns": null,
            "grid_auto_flow": null,
            "grid_auto_rows": null,
            "grid_column": null,
            "grid_gap": null,
            "grid_row": null,
            "grid_template_areas": null,
            "grid_template_columns": null,
            "grid_template_rows": null,
            "height": null,
            "justify_content": null,
            "justify_items": null,
            "left": null,
            "margin": null,
            "max_height": null,
            "max_width": null,
            "min_height": null,
            "min_width": null,
            "object_fit": null,
            "object_position": null,
            "order": null,
            "overflow": null,
            "overflow_x": null,
            "overflow_y": null,
            "padding": null,
            "right": null,
            "top": null,
            "visibility": null,
            "width": null
          }
        },
        "b3b78c87cff34a238de9e0c336e8b2f6": {
          "model_module": "@jupyter-widgets/base",
          "model_name": "LayoutModel",
          "model_module_version": "1.2.0",
          "state": {
            "_model_module": "@jupyter-widgets/base",
            "_model_module_version": "1.2.0",
            "_model_name": "LayoutModel",
            "_view_count": null,
            "_view_module": "@jupyter-widgets/base",
            "_view_module_version": "1.2.0",
            "_view_name": "LayoutView",
            "align_content": null,
            "align_items": null,
            "align_self": null,
            "border": null,
            "bottom": null,
            "display": null,
            "flex": null,
            "flex_flow": null,
            "grid_area": null,
            "grid_auto_columns": null,
            "grid_auto_flow": null,
            "grid_auto_rows": null,
            "grid_column": null,
            "grid_gap": null,
            "grid_row": null,
            "grid_template_areas": null,
            "grid_template_columns": null,
            "grid_template_rows": null,
            "height": null,
            "justify_content": null,
            "justify_items": null,
            "left": null,
            "margin": null,
            "max_height": null,
            "max_width": null,
            "min_height": null,
            "min_width": null,
            "object_fit": null,
            "object_position": null,
            "order": null,
            "overflow": null,
            "overflow_x": null,
            "overflow_y": null,
            "padding": null,
            "right": null,
            "top": null,
            "visibility": null,
            "width": null
          }
        },
        "c63b3556a94f4232b039966d1fbf60fa": {
          "model_module": "@jupyter-widgets/controls",
          "model_name": "DescriptionStyleModel",
          "model_module_version": "1.5.0",
          "state": {
            "_model_module": "@jupyter-widgets/controls",
            "_model_module_version": "1.5.0",
            "_model_name": "DescriptionStyleModel",
            "_view_count": null,
            "_view_module": "@jupyter-widgets/base",
            "_view_module_version": "1.2.0",
            "_view_name": "StyleView",
            "description_width": ""
          }
        },
        "fe7d982a1c234b5e967efc3ca0953ab4": {
          "model_module": "@jupyter-widgets/base",
          "model_name": "LayoutModel",
          "model_module_version": "1.2.0",
          "state": {
            "_model_module": "@jupyter-widgets/base",
            "_model_module_version": "1.2.0",
            "_model_name": "LayoutModel",
            "_view_count": null,
            "_view_module": "@jupyter-widgets/base",
            "_view_module_version": "1.2.0",
            "_view_name": "LayoutView",
            "align_content": null,
            "align_items": null,
            "align_self": null,
            "border": null,
            "bottom": null,
            "display": null,
            "flex": null,
            "flex_flow": null,
            "grid_area": null,
            "grid_auto_columns": null,
            "grid_auto_flow": null,
            "grid_auto_rows": null,
            "grid_column": null,
            "grid_gap": null,
            "grid_row": null,
            "grid_template_areas": null,
            "grid_template_columns": null,
            "grid_template_rows": null,
            "height": null,
            "justify_content": null,
            "justify_items": null,
            "left": null,
            "margin": null,
            "max_height": null,
            "max_width": null,
            "min_height": null,
            "min_width": null,
            "object_fit": null,
            "object_position": null,
            "order": null,
            "overflow": null,
            "overflow_x": null,
            "overflow_y": null,
            "padding": null,
            "right": null,
            "top": null,
            "visibility": null,
            "width": null
          }
        },
        "cd0b9340f23d4e74a3d686a5f5370f41": {
          "model_module": "@jupyter-widgets/controls",
          "model_name": "ProgressStyleModel",
          "model_module_version": "1.5.0",
          "state": {
            "_model_module": "@jupyter-widgets/controls",
            "_model_module_version": "1.5.0",
            "_model_name": "ProgressStyleModel",
            "_view_count": null,
            "_view_module": "@jupyter-widgets/base",
            "_view_module_version": "1.2.0",
            "_view_name": "StyleView",
            "bar_color": null,
            "description_width": ""
          }
        },
        "e080e1b65b2c4bb887e8d6a90ddb8d0f": {
          "model_module": "@jupyter-widgets/base",
          "model_name": "LayoutModel",
          "model_module_version": "1.2.0",
          "state": {
            "_model_module": "@jupyter-widgets/base",
            "_model_module_version": "1.2.0",
            "_model_name": "LayoutModel",
            "_view_count": null,
            "_view_module": "@jupyter-widgets/base",
            "_view_module_version": "1.2.0",
            "_view_name": "LayoutView",
            "align_content": null,
            "align_items": null,
            "align_self": null,
            "border": null,
            "bottom": null,
            "display": null,
            "flex": null,
            "flex_flow": null,
            "grid_area": null,
            "grid_auto_columns": null,
            "grid_auto_flow": null,
            "grid_auto_rows": null,
            "grid_column": null,
            "grid_gap": null,
            "grid_row": null,
            "grid_template_areas": null,
            "grid_template_columns": null,
            "grid_template_rows": null,
            "height": null,
            "justify_content": null,
            "justify_items": null,
            "left": null,
            "margin": null,
            "max_height": null,
            "max_width": null,
            "min_height": null,
            "min_width": null,
            "object_fit": null,
            "object_position": null,
            "order": null,
            "overflow": null,
            "overflow_x": null,
            "overflow_y": null,
            "padding": null,
            "right": null,
            "top": null,
            "visibility": null,
            "width": null
          }
        },
        "3eedaef0c08f4ee381c32862813d658a": {
          "model_module": "@jupyter-widgets/controls",
          "model_name": "DescriptionStyleModel",
          "model_module_version": "1.5.0",
          "state": {
            "_model_module": "@jupyter-widgets/controls",
            "_model_module_version": "1.5.0",
            "_model_name": "DescriptionStyleModel",
            "_view_count": null,
            "_view_module": "@jupyter-widgets/base",
            "_view_module_version": "1.2.0",
            "_view_name": "StyleView",
            "description_width": ""
          }
        },
        "835b406171084bc3b02b182430fdcdb5": {
          "model_module": "@jupyter-widgets/controls",
          "model_name": "HBoxModel",
          "model_module_version": "1.5.0",
          "state": {
            "_dom_classes": [],
            "_model_module": "@jupyter-widgets/controls",
            "_model_module_version": "1.5.0",
            "_model_name": "HBoxModel",
            "_view_count": null,
            "_view_module": "@jupyter-widgets/controls",
            "_view_module_version": "1.5.0",
            "_view_name": "HBoxView",
            "box_style": "",
            "children": [
              "IPY_MODEL_c1e95140d90042dbaaa99d79b0d32808",
              "IPY_MODEL_5c1b1235e1d54d08b162bd0b5d9484a2",
              "IPY_MODEL_bfca14b194b846ddaf1e8d05701c22be"
            ],
            "layout": "IPY_MODEL_050236bc83c54d5a91c02a3f295a05b1"
          }
        },
        "c1e95140d90042dbaaa99d79b0d32808": {
          "model_module": "@jupyter-widgets/controls",
          "model_name": "HTMLModel",
          "model_module_version": "1.5.0",
          "state": {
            "_dom_classes": [],
            "_model_module": "@jupyter-widgets/controls",
            "_model_module_version": "1.5.0",
            "_model_name": "HTMLModel",
            "_view_count": null,
            "_view_module": "@jupyter-widgets/controls",
            "_view_module_version": "1.5.0",
            "_view_name": "HTMLView",
            "description": "",
            "description_tooltip": null,
            "layout": "IPY_MODEL_434cb8fabdf14d54bb2a04d8db9d91d2",
            "placeholder": "​",
            "style": "IPY_MODEL_0e8bd307853e4a4e8b5c757f5fc76c80",
            "value": "config.json: 100%"
          }
        },
        "5c1b1235e1d54d08b162bd0b5d9484a2": {
          "model_module": "@jupyter-widgets/controls",
          "model_name": "FloatProgressModel",
          "model_module_version": "1.5.0",
          "state": {
            "_dom_classes": [],
            "_model_module": "@jupyter-widgets/controls",
            "_model_module_version": "1.5.0",
            "_model_name": "FloatProgressModel",
            "_view_count": null,
            "_view_module": "@jupyter-widgets/controls",
            "_view_module_version": "1.5.0",
            "_view_name": "ProgressView",
            "bar_style": "success",
            "description": "",
            "description_tooltip": null,
            "layout": "IPY_MODEL_de0c81a5bafb423c953e0981101d894d",
            "max": 570,
            "min": 0,
            "orientation": "horizontal",
            "style": "IPY_MODEL_b30a063cf93b47b689e858fd5f52e055",
            "value": 570
          }
        },
        "bfca14b194b846ddaf1e8d05701c22be": {
          "model_module": "@jupyter-widgets/controls",
          "model_name": "HTMLModel",
          "model_module_version": "1.5.0",
          "state": {
            "_dom_classes": [],
            "_model_module": "@jupyter-widgets/controls",
            "_model_module_version": "1.5.0",
            "_model_name": "HTMLModel",
            "_view_count": null,
            "_view_module": "@jupyter-widgets/controls",
            "_view_module_version": "1.5.0",
            "_view_name": "HTMLView",
            "description": "",
            "description_tooltip": null,
            "layout": "IPY_MODEL_5d820eef1f744ff4bb4fd66083d5790d",
            "placeholder": "​",
            "style": "IPY_MODEL_f8c8ff1d38764acf8a5e4d391d91ee85",
            "value": " 570/570 [00:00&lt;00:00, 36.6kB/s]"
          }
        },
        "050236bc83c54d5a91c02a3f295a05b1": {
          "model_module": "@jupyter-widgets/base",
          "model_name": "LayoutModel",
          "model_module_version": "1.2.0",
          "state": {
            "_model_module": "@jupyter-widgets/base",
            "_model_module_version": "1.2.0",
            "_model_name": "LayoutModel",
            "_view_count": null,
            "_view_module": "@jupyter-widgets/base",
            "_view_module_version": "1.2.0",
            "_view_name": "LayoutView",
            "align_content": null,
            "align_items": null,
            "align_self": null,
            "border": null,
            "bottom": null,
            "display": null,
            "flex": null,
            "flex_flow": null,
            "grid_area": null,
            "grid_auto_columns": null,
            "grid_auto_flow": null,
            "grid_auto_rows": null,
            "grid_column": null,
            "grid_gap": null,
            "grid_row": null,
            "grid_template_areas": null,
            "grid_template_columns": null,
            "grid_template_rows": null,
            "height": null,
            "justify_content": null,
            "justify_items": null,
            "left": null,
            "margin": null,
            "max_height": null,
            "max_width": null,
            "min_height": null,
            "min_width": null,
            "object_fit": null,
            "object_position": null,
            "order": null,
            "overflow": null,
            "overflow_x": null,
            "overflow_y": null,
            "padding": null,
            "right": null,
            "top": null,
            "visibility": null,
            "width": null
          }
        },
        "434cb8fabdf14d54bb2a04d8db9d91d2": {
          "model_module": "@jupyter-widgets/base",
          "model_name": "LayoutModel",
          "model_module_version": "1.2.0",
          "state": {
            "_model_module": "@jupyter-widgets/base",
            "_model_module_version": "1.2.0",
            "_model_name": "LayoutModel",
            "_view_count": null,
            "_view_module": "@jupyter-widgets/base",
            "_view_module_version": "1.2.0",
            "_view_name": "LayoutView",
            "align_content": null,
            "align_items": null,
            "align_self": null,
            "border": null,
            "bottom": null,
            "display": null,
            "flex": null,
            "flex_flow": null,
            "grid_area": null,
            "grid_auto_columns": null,
            "grid_auto_flow": null,
            "grid_auto_rows": null,
            "grid_column": null,
            "grid_gap": null,
            "grid_row": null,
            "grid_template_areas": null,
            "grid_template_columns": null,
            "grid_template_rows": null,
            "height": null,
            "justify_content": null,
            "justify_items": null,
            "left": null,
            "margin": null,
            "max_height": null,
            "max_width": null,
            "min_height": null,
            "min_width": null,
            "object_fit": null,
            "object_position": null,
            "order": null,
            "overflow": null,
            "overflow_x": null,
            "overflow_y": null,
            "padding": null,
            "right": null,
            "top": null,
            "visibility": null,
            "width": null
          }
        },
        "0e8bd307853e4a4e8b5c757f5fc76c80": {
          "model_module": "@jupyter-widgets/controls",
          "model_name": "DescriptionStyleModel",
          "model_module_version": "1.5.0",
          "state": {
            "_model_module": "@jupyter-widgets/controls",
            "_model_module_version": "1.5.0",
            "_model_name": "DescriptionStyleModel",
            "_view_count": null,
            "_view_module": "@jupyter-widgets/base",
            "_view_module_version": "1.2.0",
            "_view_name": "StyleView",
            "description_width": ""
          }
        },
        "de0c81a5bafb423c953e0981101d894d": {
          "model_module": "@jupyter-widgets/base",
          "model_name": "LayoutModel",
          "model_module_version": "1.2.0",
          "state": {
            "_model_module": "@jupyter-widgets/base",
            "_model_module_version": "1.2.0",
            "_model_name": "LayoutModel",
            "_view_count": null,
            "_view_module": "@jupyter-widgets/base",
            "_view_module_version": "1.2.0",
            "_view_name": "LayoutView",
            "align_content": null,
            "align_items": null,
            "align_self": null,
            "border": null,
            "bottom": null,
            "display": null,
            "flex": null,
            "flex_flow": null,
            "grid_area": null,
            "grid_auto_columns": null,
            "grid_auto_flow": null,
            "grid_auto_rows": null,
            "grid_column": null,
            "grid_gap": null,
            "grid_row": null,
            "grid_template_areas": null,
            "grid_template_columns": null,
            "grid_template_rows": null,
            "height": null,
            "justify_content": null,
            "justify_items": null,
            "left": null,
            "margin": null,
            "max_height": null,
            "max_width": null,
            "min_height": null,
            "min_width": null,
            "object_fit": null,
            "object_position": null,
            "order": null,
            "overflow": null,
            "overflow_x": null,
            "overflow_y": null,
            "padding": null,
            "right": null,
            "top": null,
            "visibility": null,
            "width": null
          }
        },
        "b30a063cf93b47b689e858fd5f52e055": {
          "model_module": "@jupyter-widgets/controls",
          "model_name": "ProgressStyleModel",
          "model_module_version": "1.5.0",
          "state": {
            "_model_module": "@jupyter-widgets/controls",
            "_model_module_version": "1.5.0",
            "_model_name": "ProgressStyleModel",
            "_view_count": null,
            "_view_module": "@jupyter-widgets/base",
            "_view_module_version": "1.2.0",
            "_view_name": "StyleView",
            "bar_color": null,
            "description_width": ""
          }
        },
        "5d820eef1f744ff4bb4fd66083d5790d": {
          "model_module": "@jupyter-widgets/base",
          "model_name": "LayoutModel",
          "model_module_version": "1.2.0",
          "state": {
            "_model_module": "@jupyter-widgets/base",
            "_model_module_version": "1.2.0",
            "_model_name": "LayoutModel",
            "_view_count": null,
            "_view_module": "@jupyter-widgets/base",
            "_view_module_version": "1.2.0",
            "_view_name": "LayoutView",
            "align_content": null,
            "align_items": null,
            "align_self": null,
            "border": null,
            "bottom": null,
            "display": null,
            "flex": null,
            "flex_flow": null,
            "grid_area": null,
            "grid_auto_columns": null,
            "grid_auto_flow": null,
            "grid_auto_rows": null,
            "grid_column": null,
            "grid_gap": null,
            "grid_row": null,
            "grid_template_areas": null,
            "grid_template_columns": null,
            "grid_template_rows": null,
            "height": null,
            "justify_content": null,
            "justify_items": null,
            "left": null,
            "margin": null,
            "max_height": null,
            "max_width": null,
            "min_height": null,
            "min_width": null,
            "object_fit": null,
            "object_position": null,
            "order": null,
            "overflow": null,
            "overflow_x": null,
            "overflow_y": null,
            "padding": null,
            "right": null,
            "top": null,
            "visibility": null,
            "width": null
          }
        },
        "f8c8ff1d38764acf8a5e4d391d91ee85": {
          "model_module": "@jupyter-widgets/controls",
          "model_name": "DescriptionStyleModel",
          "model_module_version": "1.5.0",
          "state": {
            "_model_module": "@jupyter-widgets/controls",
            "_model_module_version": "1.5.0",
            "_model_name": "DescriptionStyleModel",
            "_view_count": null,
            "_view_module": "@jupyter-widgets/base",
            "_view_module_version": "1.2.0",
            "_view_name": "StyleView",
            "description_width": ""
          }
        },
        "5a43eedb23934a448af28296193af3c3": {
          "model_module": "@jupyter-widgets/controls",
          "model_name": "HBoxModel",
          "model_module_version": "1.5.0",
          "state": {
            "_dom_classes": [],
            "_model_module": "@jupyter-widgets/controls",
            "_model_module_version": "1.5.0",
            "_model_name": "HBoxModel",
            "_view_count": null,
            "_view_module": "@jupyter-widgets/controls",
            "_view_module_version": "1.5.0",
            "_view_name": "HBoxView",
            "box_style": "",
            "children": [
              "IPY_MODEL_074cf80da6284742bdf285904a5c449a",
              "IPY_MODEL_0404a3c01bfb4968bc79144359282dec",
              "IPY_MODEL_a10897638cdf4575b05a1b7a8375ee16"
            ],
            "layout": "IPY_MODEL_e77e7a16019844218494774b24ab6e01"
          }
        },
        "074cf80da6284742bdf285904a5c449a": {
          "model_module": "@jupyter-widgets/controls",
          "model_name": "HTMLModel",
          "model_module_version": "1.5.0",
          "state": {
            "_dom_classes": [],
            "_model_module": "@jupyter-widgets/controls",
            "_model_module_version": "1.5.0",
            "_model_name": "HTMLModel",
            "_view_count": null,
            "_view_module": "@jupyter-widgets/controls",
            "_view_module_version": "1.5.0",
            "_view_name": "HTMLView",
            "description": "",
            "description_tooltip": null,
            "layout": "IPY_MODEL_81ccc3e2bd0e4dc79157e325a191f241",
            "placeholder": "​",
            "style": "IPY_MODEL_dc7c8110028447de81506f4d67f9f4fe",
            "value": "model.safetensors: 100%"
          }
        },
        "0404a3c01bfb4968bc79144359282dec": {
          "model_module": "@jupyter-widgets/controls",
          "model_name": "FloatProgressModel",
          "model_module_version": "1.5.0",
          "state": {
            "_dom_classes": [],
            "_model_module": "@jupyter-widgets/controls",
            "_model_module_version": "1.5.0",
            "_model_name": "FloatProgressModel",
            "_view_count": null,
            "_view_module": "@jupyter-widgets/controls",
            "_view_module_version": "1.5.0",
            "_view_name": "ProgressView",
            "bar_style": "success",
            "description": "",
            "description_tooltip": null,
            "layout": "IPY_MODEL_dc71f7a43bf14b7b8603f0a56fa9f3d1",
            "max": 440449768,
            "min": 0,
            "orientation": "horizontal",
            "style": "IPY_MODEL_a560874493c7452a93ad347fbede83af",
            "value": 440449768
          }
        },
        "a10897638cdf4575b05a1b7a8375ee16": {
          "model_module": "@jupyter-widgets/controls",
          "model_name": "HTMLModel",
          "model_module_version": "1.5.0",
          "state": {
            "_dom_classes": [],
            "_model_module": "@jupyter-widgets/controls",
            "_model_module_version": "1.5.0",
            "_model_name": "HTMLModel",
            "_view_count": null,
            "_view_module": "@jupyter-widgets/controls",
            "_view_module_version": "1.5.0",
            "_view_name": "HTMLView",
            "description": "",
            "description_tooltip": null,
            "layout": "IPY_MODEL_fff02918009444c7b4005ee6a51720af",
            "placeholder": "​",
            "style": "IPY_MODEL_1710f4f3236e471496807a1eaadba8e6",
            "value": " 440M/440M [00:01&lt;00:00, 274MB/s]"
          }
        },
        "e77e7a16019844218494774b24ab6e01": {
          "model_module": "@jupyter-widgets/base",
          "model_name": "LayoutModel",
          "model_module_version": "1.2.0",
          "state": {
            "_model_module": "@jupyter-widgets/base",
            "_model_module_version": "1.2.0",
            "_model_name": "LayoutModel",
            "_view_count": null,
            "_view_module": "@jupyter-widgets/base",
            "_view_module_version": "1.2.0",
            "_view_name": "LayoutView",
            "align_content": null,
            "align_items": null,
            "align_self": null,
            "border": null,
            "bottom": null,
            "display": null,
            "flex": null,
            "flex_flow": null,
            "grid_area": null,
            "grid_auto_columns": null,
            "grid_auto_flow": null,
            "grid_auto_rows": null,
            "grid_column": null,
            "grid_gap": null,
            "grid_row": null,
            "grid_template_areas": null,
            "grid_template_columns": null,
            "grid_template_rows": null,
            "height": null,
            "justify_content": null,
            "justify_items": null,
            "left": null,
            "margin": null,
            "max_height": null,
            "max_width": null,
            "min_height": null,
            "min_width": null,
            "object_fit": null,
            "object_position": null,
            "order": null,
            "overflow": null,
            "overflow_x": null,
            "overflow_y": null,
            "padding": null,
            "right": null,
            "top": null,
            "visibility": null,
            "width": null
          }
        },
        "81ccc3e2bd0e4dc79157e325a191f241": {
          "model_module": "@jupyter-widgets/base",
          "model_name": "LayoutModel",
          "model_module_version": "1.2.0",
          "state": {
            "_model_module": "@jupyter-widgets/base",
            "_model_module_version": "1.2.0",
            "_model_name": "LayoutModel",
            "_view_count": null,
            "_view_module": "@jupyter-widgets/base",
            "_view_module_version": "1.2.0",
            "_view_name": "LayoutView",
            "align_content": null,
            "align_items": null,
            "align_self": null,
            "border": null,
            "bottom": null,
            "display": null,
            "flex": null,
            "flex_flow": null,
            "grid_area": null,
            "grid_auto_columns": null,
            "grid_auto_flow": null,
            "grid_auto_rows": null,
            "grid_column": null,
            "grid_gap": null,
            "grid_row": null,
            "grid_template_areas": null,
            "grid_template_columns": null,
            "grid_template_rows": null,
            "height": null,
            "justify_content": null,
            "justify_items": null,
            "left": null,
            "margin": null,
            "max_height": null,
            "max_width": null,
            "min_height": null,
            "min_width": null,
            "object_fit": null,
            "object_position": null,
            "order": null,
            "overflow": null,
            "overflow_x": null,
            "overflow_y": null,
            "padding": null,
            "right": null,
            "top": null,
            "visibility": null,
            "width": null
          }
        },
        "dc7c8110028447de81506f4d67f9f4fe": {
          "model_module": "@jupyter-widgets/controls",
          "model_name": "DescriptionStyleModel",
          "model_module_version": "1.5.0",
          "state": {
            "_model_module": "@jupyter-widgets/controls",
            "_model_module_version": "1.5.0",
            "_model_name": "DescriptionStyleModel",
            "_view_count": null,
            "_view_module": "@jupyter-widgets/base",
            "_view_module_version": "1.2.0",
            "_view_name": "StyleView",
            "description_width": ""
          }
        },
        "dc71f7a43bf14b7b8603f0a56fa9f3d1": {
          "model_module": "@jupyter-widgets/base",
          "model_name": "LayoutModel",
          "model_module_version": "1.2.0",
          "state": {
            "_model_module": "@jupyter-widgets/base",
            "_model_module_version": "1.2.0",
            "_model_name": "LayoutModel",
            "_view_count": null,
            "_view_module": "@jupyter-widgets/base",
            "_view_module_version": "1.2.0",
            "_view_name": "LayoutView",
            "align_content": null,
            "align_items": null,
            "align_self": null,
            "border": null,
            "bottom": null,
            "display": null,
            "flex": null,
            "flex_flow": null,
            "grid_area": null,
            "grid_auto_columns": null,
            "grid_auto_flow": null,
            "grid_auto_rows": null,
            "grid_column": null,
            "grid_gap": null,
            "grid_row": null,
            "grid_template_areas": null,
            "grid_template_columns": null,
            "grid_template_rows": null,
            "height": null,
            "justify_content": null,
            "justify_items": null,
            "left": null,
            "margin": null,
            "max_height": null,
            "max_width": null,
            "min_height": null,
            "min_width": null,
            "object_fit": null,
            "object_position": null,
            "order": null,
            "overflow": null,
            "overflow_x": null,
            "overflow_y": null,
            "padding": null,
            "right": null,
            "top": null,
            "visibility": null,
            "width": null
          }
        },
        "a560874493c7452a93ad347fbede83af": {
          "model_module": "@jupyter-widgets/controls",
          "model_name": "ProgressStyleModel",
          "model_module_version": "1.5.0",
          "state": {
            "_model_module": "@jupyter-widgets/controls",
            "_model_module_version": "1.5.0",
            "_model_name": "ProgressStyleModel",
            "_view_count": null,
            "_view_module": "@jupyter-widgets/base",
            "_view_module_version": "1.2.0",
            "_view_name": "StyleView",
            "bar_color": null,
            "description_width": ""
          }
        },
        "fff02918009444c7b4005ee6a51720af": {
          "model_module": "@jupyter-widgets/base",
          "model_name": "LayoutModel",
          "model_module_version": "1.2.0",
          "state": {
            "_model_module": "@jupyter-widgets/base",
            "_model_module_version": "1.2.0",
            "_model_name": "LayoutModel",
            "_view_count": null,
            "_view_module": "@jupyter-widgets/base",
            "_view_module_version": "1.2.0",
            "_view_name": "LayoutView",
            "align_content": null,
            "align_items": null,
            "align_self": null,
            "border": null,
            "bottom": null,
            "display": null,
            "flex": null,
            "flex_flow": null,
            "grid_area": null,
            "grid_auto_columns": null,
            "grid_auto_flow": null,
            "grid_auto_rows": null,
            "grid_column": null,
            "grid_gap": null,
            "grid_row": null,
            "grid_template_areas": null,
            "grid_template_columns": null,
            "grid_template_rows": null,
            "height": null,
            "justify_content": null,
            "justify_items": null,
            "left": null,
            "margin": null,
            "max_height": null,
            "max_width": null,
            "min_height": null,
            "min_width": null,
            "object_fit": null,
            "object_position": null,
            "order": null,
            "overflow": null,
            "overflow_x": null,
            "overflow_y": null,
            "padding": null,
            "right": null,
            "top": null,
            "visibility": null,
            "width": null
          }
        },
        "1710f4f3236e471496807a1eaadba8e6": {
          "model_module": "@jupyter-widgets/controls",
          "model_name": "DescriptionStyleModel",
          "model_module_version": "1.5.0",
          "state": {
            "_model_module": "@jupyter-widgets/controls",
            "_model_module_version": "1.5.0",
            "_model_name": "DescriptionStyleModel",
            "_view_count": null,
            "_view_module": "@jupyter-widgets/base",
            "_view_module_version": "1.2.0",
            "_view_name": "StyleView",
            "description_width": ""
          }
        }
      }
    }
  },
  "nbformat": 4,
  "nbformat_minor": 0
}